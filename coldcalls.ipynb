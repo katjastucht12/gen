{
 "cells": [
  {
   "cell_type": "code",
   "execution_count": 1,
   "metadata": {},
   "outputs": [],
   "source": [
    "import numpy as np\n",
    "import pandas as pd\n",
    "import seaborn as sns\n",
    "import matplotlib.pyplot as plt\n",
    "import datetime\n",
    "from sklearn.preprocessing import LabelEncoder\n",
    "from sklearn.model_selection import train_test_split\n",
    "from sklearn.neighbors import KNeighborsClassifier\n",
    "from sklearn.model_selection import validation_curve, learning_curve\n",
    "from sklearn.preprocessing import MinMaxScaler\n",
    "from sklearn.tree import DecisionTreeClassifier\n",
    "from sklearn.ensemble import AdaBoostClassifier\n",
    "from sklearn.model_selection import GridSearchCV\n",
    "from sklearn.ensemble import RandomForestClassifier\n",
    "from sklearn.metrics import f1_score, accuracy_score\n",
    "from sklearn.metrics import plot_confusion_matrix"
   ]
  },
  {
   "cell_type": "markdown",
   "metadata": {},
   "source": [
    "# Data Summary"
   ]
  },
  {
   "cell_type": "code",
   "execution_count": 2,
   "metadata": {},
   "outputs": [
    {
     "name": "stdout",
     "output_type": "stream",
     "text": [
      "<class 'pandas.core.frame.DataFrame'>\n",
      "RangeIndex: 4000 entries, 0 to 3999\n",
      "Data columns (total 19 columns):\n",
      " #   Column            Non-Null Count  Dtype \n",
      "---  ------            --------------  ----- \n",
      " 0   Id                4000 non-null   int64 \n",
      " 1   Age               4000 non-null   int64 \n",
      " 2   Job               3981 non-null   object\n",
      " 3   Marital           4000 non-null   object\n",
      " 4   Education         3831 non-null   object\n",
      " 5   Default           4000 non-null   int64 \n",
      " 6   Balance           4000 non-null   int64 \n",
      " 7   HHInsurance       4000 non-null   int64 \n",
      " 8   CarLoan           4000 non-null   int64 \n",
      " 9   Communication     3098 non-null   object\n",
      " 10  LastContactDay    4000 non-null   int64 \n",
      " 11  LastContactMonth  4000 non-null   object\n",
      " 12  NoOfContacts      4000 non-null   int64 \n",
      " 13  DaysPassed        4000 non-null   int64 \n",
      " 14  PrevAttempts      4000 non-null   int64 \n",
      " 15  Outcome           958 non-null    object\n",
      " 16  CallStart         4000 non-null   object\n",
      " 17  CallEnd           4000 non-null   object\n",
      " 18  CarInsurance      4000 non-null   int64 \n",
      "dtypes: int64(11), object(8)\n",
      "memory usage: 593.9+ KB\n",
      "None\n"
     ]
    }
   ],
   "source": [
    "train = pd.read_csv('./Data/carInsurance_train.csv', dtype={'CarInsurance':'int64'})\n",
    "test = pd.read_csv('./Data/carInsurance_test.csv', dtype={'CarInsurance':object})\n",
    "print(train.info())"
   ]
  },
  {
   "cell_type": "code",
   "execution_count": 3,
   "metadata": {},
   "outputs": [
    {
     "data": {
      "text/html": [
       "<div>\n",
       "<style scoped>\n",
       "    .dataframe tbody tr th:only-of-type {\n",
       "        vertical-align: middle;\n",
       "    }\n",
       "\n",
       "    .dataframe tbody tr th {\n",
       "        vertical-align: top;\n",
       "    }\n",
       "\n",
       "    .dataframe thead th {\n",
       "        text-align: right;\n",
       "    }\n",
       "</style>\n",
       "<table border=\"1\" class=\"dataframe\">\n",
       "  <thead>\n",
       "    <tr style=\"text-align: right;\">\n",
       "      <th></th>\n",
       "      <th>Id</th>\n",
       "      <th>Age</th>\n",
       "      <th>Default</th>\n",
       "      <th>Balance</th>\n",
       "      <th>HHInsurance</th>\n",
       "      <th>CarLoan</th>\n",
       "      <th>LastContactDay</th>\n",
       "      <th>NoOfContacts</th>\n",
       "      <th>DaysPassed</th>\n",
       "      <th>PrevAttempts</th>\n",
       "      <th>CarInsurance</th>\n",
       "    </tr>\n",
       "  </thead>\n",
       "  <tbody>\n",
       "    <tr>\n",
       "      <th>count</th>\n",
       "      <td>4000.000000</td>\n",
       "      <td>4000.000000</td>\n",
       "      <td>4000.000000</td>\n",
       "      <td>4000.000000</td>\n",
       "      <td>4000.00000</td>\n",
       "      <td>4000.000000</td>\n",
       "      <td>4000.000000</td>\n",
       "      <td>4000.000000</td>\n",
       "      <td>4000.000000</td>\n",
       "      <td>4000.000000</td>\n",
       "      <td>4000.000000</td>\n",
       "    </tr>\n",
       "    <tr>\n",
       "      <th>mean</th>\n",
       "      <td>2000.500000</td>\n",
       "      <td>41.214750</td>\n",
       "      <td>0.014500</td>\n",
       "      <td>1532.937250</td>\n",
       "      <td>0.49275</td>\n",
       "      <td>0.133000</td>\n",
       "      <td>15.721250</td>\n",
       "      <td>2.607250</td>\n",
       "      <td>48.706500</td>\n",
       "      <td>0.717500</td>\n",
       "      <td>0.401000</td>\n",
       "    </tr>\n",
       "    <tr>\n",
       "      <th>std</th>\n",
       "      <td>1154.844867</td>\n",
       "      <td>11.550194</td>\n",
       "      <td>0.119555</td>\n",
       "      <td>3511.452489</td>\n",
       "      <td>0.50001</td>\n",
       "      <td>0.339617</td>\n",
       "      <td>8.425307</td>\n",
       "      <td>3.064204</td>\n",
       "      <td>106.685385</td>\n",
       "      <td>2.078647</td>\n",
       "      <td>0.490162</td>\n",
       "    </tr>\n",
       "    <tr>\n",
       "      <th>min</th>\n",
       "      <td>1.000000</td>\n",
       "      <td>18.000000</td>\n",
       "      <td>0.000000</td>\n",
       "      <td>-3058.000000</td>\n",
       "      <td>0.00000</td>\n",
       "      <td>0.000000</td>\n",
       "      <td>1.000000</td>\n",
       "      <td>1.000000</td>\n",
       "      <td>-1.000000</td>\n",
       "      <td>0.000000</td>\n",
       "      <td>0.000000</td>\n",
       "    </tr>\n",
       "    <tr>\n",
       "      <th>25%</th>\n",
       "      <td>1000.750000</td>\n",
       "      <td>32.000000</td>\n",
       "      <td>0.000000</td>\n",
       "      <td>111.000000</td>\n",
       "      <td>0.00000</td>\n",
       "      <td>0.000000</td>\n",
       "      <td>8.000000</td>\n",
       "      <td>1.000000</td>\n",
       "      <td>-1.000000</td>\n",
       "      <td>0.000000</td>\n",
       "      <td>0.000000</td>\n",
       "    </tr>\n",
       "    <tr>\n",
       "      <th>50%</th>\n",
       "      <td>2000.500000</td>\n",
       "      <td>39.000000</td>\n",
       "      <td>0.000000</td>\n",
       "      <td>551.500000</td>\n",
       "      <td>0.00000</td>\n",
       "      <td>0.000000</td>\n",
       "      <td>16.000000</td>\n",
       "      <td>2.000000</td>\n",
       "      <td>-1.000000</td>\n",
       "      <td>0.000000</td>\n",
       "      <td>0.000000</td>\n",
       "    </tr>\n",
       "    <tr>\n",
       "      <th>75%</th>\n",
       "      <td>3000.250000</td>\n",
       "      <td>49.000000</td>\n",
       "      <td>0.000000</td>\n",
       "      <td>1619.000000</td>\n",
       "      <td>1.00000</td>\n",
       "      <td>0.000000</td>\n",
       "      <td>22.000000</td>\n",
       "      <td>3.000000</td>\n",
       "      <td>-1.000000</td>\n",
       "      <td>0.000000</td>\n",
       "      <td>1.000000</td>\n",
       "    </tr>\n",
       "    <tr>\n",
       "      <th>max</th>\n",
       "      <td>4000.000000</td>\n",
       "      <td>95.000000</td>\n",
       "      <td>1.000000</td>\n",
       "      <td>98417.000000</td>\n",
       "      <td>1.00000</td>\n",
       "      <td>1.000000</td>\n",
       "      <td>31.000000</td>\n",
       "      <td>43.000000</td>\n",
       "      <td>854.000000</td>\n",
       "      <td>58.000000</td>\n",
       "      <td>1.000000</td>\n",
       "    </tr>\n",
       "  </tbody>\n",
       "</table>\n",
       "</div>"
      ],
      "text/plain": [
       "                Id          Age      Default       Balance  HHInsurance  \\\n",
       "count  4000.000000  4000.000000  4000.000000   4000.000000   4000.00000   \n",
       "mean   2000.500000    41.214750     0.014500   1532.937250      0.49275   \n",
       "std    1154.844867    11.550194     0.119555   3511.452489      0.50001   \n",
       "min       1.000000    18.000000     0.000000  -3058.000000      0.00000   \n",
       "25%    1000.750000    32.000000     0.000000    111.000000      0.00000   \n",
       "50%    2000.500000    39.000000     0.000000    551.500000      0.00000   \n",
       "75%    3000.250000    49.000000     0.000000   1619.000000      1.00000   \n",
       "max    4000.000000    95.000000     1.000000  98417.000000      1.00000   \n",
       "\n",
       "           CarLoan  LastContactDay  NoOfContacts   DaysPassed  PrevAttempts  \\\n",
       "count  4000.000000     4000.000000   4000.000000  4000.000000   4000.000000   \n",
       "mean      0.133000       15.721250      2.607250    48.706500      0.717500   \n",
       "std       0.339617        8.425307      3.064204   106.685385      2.078647   \n",
       "min       0.000000        1.000000      1.000000    -1.000000      0.000000   \n",
       "25%       0.000000        8.000000      1.000000    -1.000000      0.000000   \n",
       "50%       0.000000       16.000000      2.000000    -1.000000      0.000000   \n",
       "75%       0.000000       22.000000      3.000000    -1.000000      0.000000   \n",
       "max       1.000000       31.000000     43.000000   854.000000     58.000000   \n",
       "\n",
       "       CarInsurance  \n",
       "count   4000.000000  \n",
       "mean       0.401000  \n",
       "std        0.490162  \n",
       "min        0.000000  \n",
       "25%        0.000000  \n",
       "50%        0.000000  \n",
       "75%        1.000000  \n",
       "max        1.000000  "
      ]
     },
     "execution_count": 3,
     "metadata": {},
     "output_type": "execute_result"
    }
   ],
   "source": [
    "train.describe()"
   ]
  },
  {
   "cell_type": "code",
   "execution_count": 4,
   "metadata": {},
   "outputs": [
    {
     "name": "stdout",
     "output_type": "stream",
     "text": [
      "Train has 4000 observations\n",
      "Test has 1000  observations\n"
     ]
    }
   ],
   "source": [
    "print(f'Train has {train.shape[0]} observations')\n",
    "print(f'Test has {test.shape[0]}  observations')"
   ]
  },
  {
   "cell_type": "code",
   "execution_count": 5,
   "metadata": {},
   "outputs": [
    {
     "name": "stdout",
     "output_type": "stream",
     "text": [
      "CarInsurance\n",
      "0    2396\n",
      "1    1604\n",
      "Name: Id, dtype: int64\n",
      "CarInsurance\n",
      "NaN    1000\n",
      "Name: Id, dtype: int64\n"
     ]
    }
   ],
   "source": [
    "print(train.groupby('CarInsurance', dropna=False).count()['Id'])\n",
    "print(test.groupby('CarInsurance', dropna=False).count()['Id'])"
   ]
  },
  {
   "cell_type": "markdown",
   "metadata": {},
   "source": [
    "Outcome values seem to have been removed from the test data, so it can't be used for a final evaluation of classifier performance. Instead we can split the training set again later\n",
    "\n",
    "The data is unblanced with more negative outcomes than positive ones. I don't think there is a particulary high cost associated with either False Positives and False Negative.\n",
    "So F1 score might be a better metric to measure the classifier on than accuracy, precision or recall "
   ]
  },
  {
   "cell_type": "markdown",
   "metadata": {},
   "source": [
    "# Features"
   ]
  },
  {
   "cell_type": "markdown",
   "metadata": {
    "pycharm": {
     "name": "#%% md\n"
    }
   },
   "source": [
    "The actual call start time and call time, probably won't matter as much as the acutal duration of the call so we can create a new column with that metric "
   ]
  },
  {
   "cell_type": "code",
   "execution_count": 264,
   "metadata": {},
   "outputs": [
    {
     "data": {
      "text/html": [
       "<div>\n",
       "<style scoped>\n",
       "    .dataframe tbody tr th:only-of-type {\n",
       "        vertical-align: middle;\n",
       "    }\n",
       "\n",
       "    .dataframe tbody tr th {\n",
       "        vertical-align: top;\n",
       "    }\n",
       "\n",
       "    .dataframe thead th {\n",
       "        text-align: right;\n",
       "    }\n",
       "</style>\n",
       "<table border=\"1\" class=\"dataframe\">\n",
       "  <thead>\n",
       "    <tr style=\"text-align: right;\">\n",
       "      <th></th>\n",
       "      <th>Id</th>\n",
       "      <th>Age</th>\n",
       "      <th>Job</th>\n",
       "      <th>Marital</th>\n",
       "      <th>Education</th>\n",
       "      <th>Default</th>\n",
       "      <th>Balance</th>\n",
       "      <th>HHInsurance</th>\n",
       "      <th>CarLoan</th>\n",
       "      <th>Communication</th>\n",
       "      <th>LastContactDay</th>\n",
       "      <th>LastContactMonth</th>\n",
       "      <th>NoOfContacts</th>\n",
       "      <th>DaysPassed</th>\n",
       "      <th>PrevAttempts</th>\n",
       "      <th>Outcome</th>\n",
       "      <th>CallStart</th>\n",
       "      <th>CallEnd</th>\n",
       "      <th>CarInsurance</th>\n",
       "      <th>CallDuration</th>\n",
       "    </tr>\n",
       "  </thead>\n",
       "  <tbody>\n",
       "    <tr>\n",
       "      <th>0</th>\n",
       "      <td>1</td>\n",
       "      <td>32</td>\n",
       "      <td>management</td>\n",
       "      <td>single</td>\n",
       "      <td>tertiary</td>\n",
       "      <td>0</td>\n",
       "      <td>1218</td>\n",
       "      <td>1</td>\n",
       "      <td>0</td>\n",
       "      <td>telephone</td>\n",
       "      <td>28</td>\n",
       "      <td>jan</td>\n",
       "      <td>2</td>\n",
       "      <td>-1</td>\n",
       "      <td>0</td>\n",
       "      <td>NaN</td>\n",
       "      <td>1900-01-01 13:45:20</td>\n",
       "      <td>1900-01-01 13:46:30</td>\n",
       "      <td>0</td>\n",
       "      <td>0 days 00:01:10</td>\n",
       "    </tr>\n",
       "    <tr>\n",
       "      <th>1</th>\n",
       "      <td>2</td>\n",
       "      <td>32</td>\n",
       "      <td>blue-collar</td>\n",
       "      <td>married</td>\n",
       "      <td>primary</td>\n",
       "      <td>0</td>\n",
       "      <td>1156</td>\n",
       "      <td>1</td>\n",
       "      <td>0</td>\n",
       "      <td>NaN</td>\n",
       "      <td>26</td>\n",
       "      <td>may</td>\n",
       "      <td>5</td>\n",
       "      <td>-1</td>\n",
       "      <td>0</td>\n",
       "      <td>NaN</td>\n",
       "      <td>1900-01-01 14:49:03</td>\n",
       "      <td>1900-01-01 14:52:08</td>\n",
       "      <td>0</td>\n",
       "      <td>0 days 00:03:05</td>\n",
       "    </tr>\n",
       "    <tr>\n",
       "      <th>2</th>\n",
       "      <td>3</td>\n",
       "      <td>29</td>\n",
       "      <td>management</td>\n",
       "      <td>single</td>\n",
       "      <td>tertiary</td>\n",
       "      <td>0</td>\n",
       "      <td>637</td>\n",
       "      <td>1</td>\n",
       "      <td>0</td>\n",
       "      <td>cellular</td>\n",
       "      <td>3</td>\n",
       "      <td>jun</td>\n",
       "      <td>1</td>\n",
       "      <td>119</td>\n",
       "      <td>1</td>\n",
       "      <td>failure</td>\n",
       "      <td>1900-01-01 16:30:24</td>\n",
       "      <td>1900-01-01 16:36:04</td>\n",
       "      <td>1</td>\n",
       "      <td>0 days 00:05:40</td>\n",
       "    </tr>\n",
       "    <tr>\n",
       "      <th>3</th>\n",
       "      <td>4</td>\n",
       "      <td>25</td>\n",
       "      <td>student</td>\n",
       "      <td>single</td>\n",
       "      <td>primary</td>\n",
       "      <td>0</td>\n",
       "      <td>373</td>\n",
       "      <td>1</td>\n",
       "      <td>0</td>\n",
       "      <td>cellular</td>\n",
       "      <td>11</td>\n",
       "      <td>may</td>\n",
       "      <td>2</td>\n",
       "      <td>-1</td>\n",
       "      <td>0</td>\n",
       "      <td>NaN</td>\n",
       "      <td>1900-01-01 12:06:43</td>\n",
       "      <td>1900-01-01 12:20:22</td>\n",
       "      <td>1</td>\n",
       "      <td>0 days 00:13:39</td>\n",
       "    </tr>\n",
       "    <tr>\n",
       "      <th>4</th>\n",
       "      <td>5</td>\n",
       "      <td>30</td>\n",
       "      <td>management</td>\n",
       "      <td>married</td>\n",
       "      <td>tertiary</td>\n",
       "      <td>0</td>\n",
       "      <td>2694</td>\n",
       "      <td>0</td>\n",
       "      <td>0</td>\n",
       "      <td>cellular</td>\n",
       "      <td>3</td>\n",
       "      <td>jun</td>\n",
       "      <td>1</td>\n",
       "      <td>-1</td>\n",
       "      <td>0</td>\n",
       "      <td>NaN</td>\n",
       "      <td>1900-01-01 14:35:44</td>\n",
       "      <td>1900-01-01 14:38:56</td>\n",
       "      <td>0</td>\n",
       "      <td>0 days 00:03:12</td>\n",
       "    </tr>\n",
       "  </tbody>\n",
       "</table>\n",
       "</div>"
      ],
      "text/plain": [
       "   Id  Age          Job  Marital Education  Default  Balance  HHInsurance  \\\n",
       "0   1   32   management   single  tertiary        0     1218            1   \n",
       "1   2   32  blue-collar  married   primary        0     1156            1   \n",
       "2   3   29   management   single  tertiary        0      637            1   \n",
       "3   4   25      student   single   primary        0      373            1   \n",
       "4   5   30   management  married  tertiary        0     2694            0   \n",
       "\n",
       "   CarLoan Communication  LastContactDay LastContactMonth  NoOfContacts  \\\n",
       "0        0     telephone              28              jan             2   \n",
       "1        0           NaN              26              may             5   \n",
       "2        0      cellular               3              jun             1   \n",
       "3        0      cellular              11              may             2   \n",
       "4        0      cellular               3              jun             1   \n",
       "\n",
       "   DaysPassed  PrevAttempts  Outcome           CallStart             CallEnd  \\\n",
       "0          -1             0      NaN 1900-01-01 13:45:20 1900-01-01 13:46:30   \n",
       "1          -1             0      NaN 1900-01-01 14:49:03 1900-01-01 14:52:08   \n",
       "2         119             1  failure 1900-01-01 16:30:24 1900-01-01 16:36:04   \n",
       "3          -1             0      NaN 1900-01-01 12:06:43 1900-01-01 12:20:22   \n",
       "4          -1             0      NaN 1900-01-01 14:35:44 1900-01-01 14:38:56   \n",
       "\n",
       "   CarInsurance    CallDuration  \n",
       "0             0 0 days 00:01:10  \n",
       "1             0 0 days 00:03:05  \n",
       "2             1 0 days 00:05:40  \n",
       "3             1 0 days 00:13:39  \n",
       "4             0 0 days 00:03:12  "
      ]
     },
     "execution_count": 264,
     "metadata": {},
     "output_type": "execute_result"
    }
   ],
   "source": [
    "train['CallStart'] =  pd.to_datetime(train['CallStart'], format= '%H:%M:%S')\n",
    "train['CallEnd'] =  pd.to_datetime(train['CallEnd'],format= '%H:%M:%S')\n",
    "train[\"CallDuration\"]= train[\"CallEnd\"] -train['CallStart'] \n",
    "train.head()"
   ]
  },
  {
   "cell_type": "code",
   "execution_count": 265,
   "metadata": {},
   "outputs": [
    {
     "data": {
      "text/html": [
       "<div>\n",
       "<style scoped>\n",
       "    .dataframe tbody tr th:only-of-type {\n",
       "        vertical-align: middle;\n",
       "    }\n",
       "\n",
       "    .dataframe tbody tr th {\n",
       "        vertical-align: top;\n",
       "    }\n",
       "\n",
       "    .dataframe thead th {\n",
       "        text-align: right;\n",
       "    }\n",
       "</style>\n",
       "<table border=\"1\" class=\"dataframe\">\n",
       "  <thead>\n",
       "    <tr style=\"text-align: right;\">\n",
       "      <th></th>\n",
       "      <th>Id</th>\n",
       "      <th>Age</th>\n",
       "      <th>Job</th>\n",
       "      <th>Marital</th>\n",
       "      <th>Education</th>\n",
       "      <th>Default</th>\n",
       "      <th>Balance</th>\n",
       "      <th>HHInsurance</th>\n",
       "      <th>CarLoan</th>\n",
       "      <th>Communication</th>\n",
       "      <th>LastContactDay</th>\n",
       "      <th>LastContactMonth</th>\n",
       "      <th>NoOfContacts</th>\n",
       "      <th>DaysPassed</th>\n",
       "      <th>PrevAttempts</th>\n",
       "      <th>Outcome</th>\n",
       "      <th>CarInsurance</th>\n",
       "      <th>CallDuration</th>\n",
       "    </tr>\n",
       "  </thead>\n",
       "  <tbody>\n",
       "    <tr>\n",
       "      <th>0</th>\n",
       "      <td>1</td>\n",
       "      <td>32</td>\n",
       "      <td>management</td>\n",
       "      <td>single</td>\n",
       "      <td>tertiary</td>\n",
       "      <td>0</td>\n",
       "      <td>1218</td>\n",
       "      <td>1</td>\n",
       "      <td>0</td>\n",
       "      <td>telephone</td>\n",
       "      <td>28</td>\n",
       "      <td>jan</td>\n",
       "      <td>2</td>\n",
       "      <td>-1</td>\n",
       "      <td>0</td>\n",
       "      <td>NaN</td>\n",
       "      <td>0</td>\n",
       "      <td>1.2</td>\n",
       "    </tr>\n",
       "    <tr>\n",
       "      <th>1</th>\n",
       "      <td>2</td>\n",
       "      <td>32</td>\n",
       "      <td>blue-collar</td>\n",
       "      <td>married</td>\n",
       "      <td>primary</td>\n",
       "      <td>0</td>\n",
       "      <td>1156</td>\n",
       "      <td>1</td>\n",
       "      <td>0</td>\n",
       "      <td>NaN</td>\n",
       "      <td>26</td>\n",
       "      <td>may</td>\n",
       "      <td>5</td>\n",
       "      <td>-1</td>\n",
       "      <td>0</td>\n",
       "      <td>NaN</td>\n",
       "      <td>0</td>\n",
       "      <td>3.1</td>\n",
       "    </tr>\n",
       "    <tr>\n",
       "      <th>2</th>\n",
       "      <td>3</td>\n",
       "      <td>29</td>\n",
       "      <td>management</td>\n",
       "      <td>single</td>\n",
       "      <td>tertiary</td>\n",
       "      <td>0</td>\n",
       "      <td>637</td>\n",
       "      <td>1</td>\n",
       "      <td>0</td>\n",
       "      <td>cellular</td>\n",
       "      <td>3</td>\n",
       "      <td>jun</td>\n",
       "      <td>1</td>\n",
       "      <td>119</td>\n",
       "      <td>1</td>\n",
       "      <td>failure</td>\n",
       "      <td>1</td>\n",
       "      <td>5.7</td>\n",
       "    </tr>\n",
       "    <tr>\n",
       "      <th>3</th>\n",
       "      <td>4</td>\n",
       "      <td>25</td>\n",
       "      <td>student</td>\n",
       "      <td>single</td>\n",
       "      <td>primary</td>\n",
       "      <td>0</td>\n",
       "      <td>373</td>\n",
       "      <td>1</td>\n",
       "      <td>0</td>\n",
       "      <td>cellular</td>\n",
       "      <td>11</td>\n",
       "      <td>may</td>\n",
       "      <td>2</td>\n",
       "      <td>-1</td>\n",
       "      <td>0</td>\n",
       "      <td>NaN</td>\n",
       "      <td>1</td>\n",
       "      <td>13.6</td>\n",
       "    </tr>\n",
       "    <tr>\n",
       "      <th>4</th>\n",
       "      <td>5</td>\n",
       "      <td>30</td>\n",
       "      <td>management</td>\n",
       "      <td>married</td>\n",
       "      <td>tertiary</td>\n",
       "      <td>0</td>\n",
       "      <td>2694</td>\n",
       "      <td>0</td>\n",
       "      <td>0</td>\n",
       "      <td>cellular</td>\n",
       "      <td>3</td>\n",
       "      <td>jun</td>\n",
       "      <td>1</td>\n",
       "      <td>-1</td>\n",
       "      <td>0</td>\n",
       "      <td>NaN</td>\n",
       "      <td>0</td>\n",
       "      <td>3.2</td>\n",
       "    </tr>\n",
       "  </tbody>\n",
       "</table>\n",
       "</div>"
      ],
      "text/plain": [
       "   Id  Age          Job  Marital Education  Default  Balance  HHInsurance  \\\n",
       "0   1   32   management   single  tertiary        0     1218            1   \n",
       "1   2   32  blue-collar  married   primary        0     1156            1   \n",
       "2   3   29   management   single  tertiary        0      637            1   \n",
       "3   4   25      student   single   primary        0      373            1   \n",
       "4   5   30   management  married  tertiary        0     2694            0   \n",
       "\n",
       "   CarLoan Communication  LastContactDay LastContactMonth  NoOfContacts  \\\n",
       "0        0     telephone              28              jan             2   \n",
       "1        0           NaN              26              may             5   \n",
       "2        0      cellular               3              jun             1   \n",
       "3        0      cellular              11              may             2   \n",
       "4        0      cellular               3              jun             1   \n",
       "\n",
       "   DaysPassed  PrevAttempts  Outcome  CarInsurance  CallDuration  \n",
       "0          -1             0      NaN             0           1.2  \n",
       "1          -1             0      NaN             0           3.1  \n",
       "2         119             1  failure             1           5.7  \n",
       "3          -1             0      NaN             1          13.6  \n",
       "4          -1             0      NaN             0           3.2  "
      ]
     },
     "execution_count": 265,
     "metadata": {},
     "output_type": "execute_result"
    }
   ],
   "source": [
    "train['CallDuration']= (train['CallDuration'] / np.timedelta64(1, 'm')).round(1)\n",
    "train = train.drop('CallStart', axis=1)\n",
    "train = train.drop('CallEnd', axis=1)\n",
    "train.head()"
   ]
  },
  {
   "cell_type": "code",
   "execution_count": 266,
   "metadata": {
    "pycharm": {
     "name": "#%%\n"
    }
   },
   "outputs": [
    {
     "data": {
      "text/plain": [
       "<seaborn.axisgrid.FacetGrid at 0x2505968ef48>"
      ]
     },
     "execution_count": 266,
     "metadata": {},
     "output_type": "execute_result"
    },
    {
     "data": {
      "image/png": "[encoded data removed]",
      "text/plain": [
       "<Figure size 1154.25x360 with 1 Axes>"
      ]
     },
     "metadata": {
      "needs_background": "light"
     },
     "output_type": "display_data"
    }
   ],
   "source": [
    "facet = sns.FacetGrid(train_reduced, hue='CarInsurance',height=5,aspect=3)\n",
    "facet.map(plt.hist,'CallDuration',bins=20,alpha=0.5)\n",
    "facet.add_legend()"
   ]
  },
  {
   "cell_type": "markdown",
   "metadata": {},
   "source": [
    "Taking a closer look at the CallDuration metric, as a general trend longer calls lead to a higher ratio of sales than shorter calls."
   ]
  },
  {
   "cell_type": "markdown",
   "metadata": {
    "pycharm": {
     "name": "#%% md\n"
    }
   },
   "source": [
    "Addtionally LastContactDay (as day of the month) might not be as relevant as the day of the week contact was made. On the other hand the calendar day might still be relevant. For example people usually have more money at the beginng of the month than at the end. So we can keep both metrics.\n",
    "\n",
    "Assumption here is that the year is 2016 (the year the data was uploaded)"
   ]
  },
  {
   "cell_type": "code",
   "execution_count": 267,
   "metadata": {},
   "outputs": [
    {
     "data": {
      "text/html": [
       "<div>\n",
       "<style scoped>\n",
       "    .dataframe tbody tr th:only-of-type {\n",
       "        vertical-align: middle;\n",
       "    }\n",
       "\n",
       "    .dataframe tbody tr th {\n",
       "        vertical-align: top;\n",
       "    }\n",
       "\n",
       "    .dataframe thead th {\n",
       "        text-align: right;\n",
       "    }\n",
       "</style>\n",
       "<table border=\"1\" class=\"dataframe\">\n",
       "  <thead>\n",
       "    <tr style=\"text-align: right;\">\n",
       "      <th></th>\n",
       "      <th>Id</th>\n",
       "      <th>Age</th>\n",
       "      <th>Job</th>\n",
       "      <th>Marital</th>\n",
       "      <th>Education</th>\n",
       "      <th>Default</th>\n",
       "      <th>Balance</th>\n",
       "      <th>HHInsurance</th>\n",
       "      <th>CarLoan</th>\n",
       "      <th>Communication</th>\n",
       "      <th>LastContactDay</th>\n",
       "      <th>LastContactMonth</th>\n",
       "      <th>NoOfContacts</th>\n",
       "      <th>DaysPassed</th>\n",
       "      <th>PrevAttempts</th>\n",
       "      <th>Outcome</th>\n",
       "      <th>CarInsurance</th>\n",
       "      <th>CallDuration</th>\n",
       "      <th>LastContactDayOfWeek</th>\n",
       "    </tr>\n",
       "  </thead>\n",
       "  <tbody>\n",
       "    <tr>\n",
       "      <th>0</th>\n",
       "      <td>1</td>\n",
       "      <td>32</td>\n",
       "      <td>management</td>\n",
       "      <td>single</td>\n",
       "      <td>tertiary</td>\n",
       "      <td>0</td>\n",
       "      <td>1218</td>\n",
       "      <td>1</td>\n",
       "      <td>0</td>\n",
       "      <td>telephone</td>\n",
       "      <td>28</td>\n",
       "      <td>jan</td>\n",
       "      <td>2</td>\n",
       "      <td>-1</td>\n",
       "      <td>0</td>\n",
       "      <td>NaN</td>\n",
       "      <td>0</td>\n",
       "      <td>1.2</td>\n",
       "      <td>3</td>\n",
       "    </tr>\n",
       "    <tr>\n",
       "      <th>1</th>\n",
       "      <td>2</td>\n",
       "      <td>32</td>\n",
       "      <td>blue-collar</td>\n",
       "      <td>married</td>\n",
       "      <td>primary</td>\n",
       "      <td>0</td>\n",
       "      <td>1156</td>\n",
       "      <td>1</td>\n",
       "      <td>0</td>\n",
       "      <td>NaN</td>\n",
       "      <td>26</td>\n",
       "      <td>may</td>\n",
       "      <td>5</td>\n",
       "      <td>-1</td>\n",
       "      <td>0</td>\n",
       "      <td>NaN</td>\n",
       "      <td>0</td>\n",
       "      <td>3.1</td>\n",
       "      <td>3</td>\n",
       "    </tr>\n",
       "    <tr>\n",
       "      <th>2</th>\n",
       "      <td>3</td>\n",
       "      <td>29</td>\n",
       "      <td>management</td>\n",
       "      <td>single</td>\n",
       "      <td>tertiary</td>\n",
       "      <td>0</td>\n",
       "      <td>637</td>\n",
       "      <td>1</td>\n",
       "      <td>0</td>\n",
       "      <td>cellular</td>\n",
       "      <td>3</td>\n",
       "      <td>jun</td>\n",
       "      <td>1</td>\n",
       "      <td>119</td>\n",
       "      <td>1</td>\n",
       "      <td>failure</td>\n",
       "      <td>1</td>\n",
       "      <td>5.7</td>\n",
       "      <td>4</td>\n",
       "    </tr>\n",
       "    <tr>\n",
       "      <th>3</th>\n",
       "      <td>4</td>\n",
       "      <td>25</td>\n",
       "      <td>student</td>\n",
       "      <td>single</td>\n",
       "      <td>primary</td>\n",
       "      <td>0</td>\n",
       "      <td>373</td>\n",
       "      <td>1</td>\n",
       "      <td>0</td>\n",
       "      <td>cellular</td>\n",
       "      <td>11</td>\n",
       "      <td>may</td>\n",
       "      <td>2</td>\n",
       "      <td>-1</td>\n",
       "      <td>0</td>\n",
       "      <td>NaN</td>\n",
       "      <td>1</td>\n",
       "      <td>13.6</td>\n",
       "      <td>2</td>\n",
       "    </tr>\n",
       "    <tr>\n",
       "      <th>4</th>\n",
       "      <td>5</td>\n",
       "      <td>30</td>\n",
       "      <td>management</td>\n",
       "      <td>married</td>\n",
       "      <td>tertiary</td>\n",
       "      <td>0</td>\n",
       "      <td>2694</td>\n",
       "      <td>0</td>\n",
       "      <td>0</td>\n",
       "      <td>cellular</td>\n",
       "      <td>3</td>\n",
       "      <td>jun</td>\n",
       "      <td>1</td>\n",
       "      <td>-1</td>\n",
       "      <td>0</td>\n",
       "      <td>NaN</td>\n",
       "      <td>0</td>\n",
       "      <td>3.2</td>\n",
       "      <td>4</td>\n",
       "    </tr>\n",
       "  </tbody>\n",
       "</table>\n",
       "</div>"
      ],
      "text/plain": [
       "   Id  Age          Job  Marital Education  Default  Balance  HHInsurance  \\\n",
       "0   1   32   management   single  tertiary        0     1218            1   \n",
       "1   2   32  blue-collar  married   primary        0     1156            1   \n",
       "2   3   29   management   single  tertiary        0      637            1   \n",
       "3   4   25      student   single   primary        0      373            1   \n",
       "4   5   30   management  married  tertiary        0     2694            0   \n",
       "\n",
       "   CarLoan Communication  LastContactDay LastContactMonth  NoOfContacts  \\\n",
       "0        0     telephone              28              jan             2   \n",
       "1        0           NaN              26              may             5   \n",
       "2        0      cellular               3              jun             1   \n",
       "3        0      cellular              11              may             2   \n",
       "4        0      cellular               3              jun             1   \n",
       "\n",
       "   DaysPassed  PrevAttempts  Outcome  CarInsurance  CallDuration  \\\n",
       "0          -1             0      NaN             0           1.2   \n",
       "1          -1             0      NaN             0           3.1   \n",
       "2         119             1  failure             1           5.7   \n",
       "3          -1             0      NaN             1          13.6   \n",
       "4          -1             0      NaN             0           3.2   \n",
       "\n",
       "   LastContactDayOfWeek  \n",
       "0                     3  \n",
       "1                     3  \n",
       "2                     4  \n",
       "3                     2  \n",
       "4                     4  "
      ]
     },
     "execution_count": 267,
     "metadata": {},
     "output_type": "execute_result"
    }
   ],
   "source": [
    "#assuming 2016, last full year before upload\n",
    "train['LastContactDate'] = train.apply(lambda x:datetime.datetime.strptime(\"%s %s %s\" %(2016,x['LastContactMonth'],x['LastContactDay']),\"%Y %b %d\"),axis=1)\n",
    "train['LastContactDayOfWeek'] = train['LastContactDate'].dt.weekday\n",
    "train['LastContactDayOfWeek'] = pd.to_numeric(train['LastContactDayOfWeek'])\n",
    "train = train.drop('LastContactDate', axis=1)\n",
    "train.head()"
   ]
  },
  {
   "cell_type": "code",
   "execution_count": 6,
   "metadata": {},
   "outputs": [
    {
     "data": {
      "text/plain": [
       "<seaborn.axisgrid.FacetGrid at 0x1ca29c2eb88>"
      ]
     },
     "execution_count": 6,
     "metadata": {},
     "output_type": "execute_result"
    },
    {
     "data": {
      "image/png": "[encoded data removed]",
      "text/plain": [
       "<Figure size 1154.25x360 with 1 Axes>"
      ]
     },
     "metadata": {
      "needs_background": "light"
     },
     "output_type": "display_data"
    }
   ],
   "source": [
    "facet = sns.FacetGrid(train, hue='CarInsurance',height=5,aspect=3)\n",
    "facet.map(plt.hist,'LastContactDay',bins=15,alpha=0.5)\n",
    "facet.add_legend()"
   ]
  },
  {
   "cell_type": "code",
   "execution_count": 269,
   "metadata": {},
   "outputs": [
    {
     "data": {
      "text/plain": [
       "<seaborn.axisgrid.FacetGrid at 0x2504c9e9348>"
      ]
     },
     "execution_count": 269,
     "metadata": {},
     "output_type": "execute_result"
    },
    {
     "data": {
      "image/png": "[encoded data removed]",
      "text/plain": [
       "<Figure size 1154.25x360 with 1 Axes>"
      ]
     },
     "metadata": {
      "needs_background": "light"
     },
     "output_type": "display_data"
    }
   ],
   "source": [
    "facet = sns.FacetGrid(train, hue='CarInsurance',height=5,aspect=3)\n",
    "facet.map(plt.hist,'LastContactDayOfWeek',bins=7,alpha=0.5)\n",
    "facet.add_legend()"
   ]
  },
  {
   "cell_type": "markdown",
   "metadata": {
    "pycharm": {
     "name": "#%% md\n"
    }
   },
   "source": [
    "## Missing Values "
   ]
  },
  {
   "cell_type": "code",
   "execution_count": null,
   "metadata": {},
   "outputs": [],
   "source": [
    "train= train.drop('Id', axis=1)\n",
    "print((train.isna().sum()/len(train))*100)"
   ]
  },
  {
   "cell_type": "code",
   "execution_count": 270,
   "metadata": {},
   "outputs": [
    {
     "data": {
      "text/plain": [
       "<seaborn.axisgrid.FacetGrid at 0x2504f182f88>"
      ]
     },
     "execution_count": 270,
     "metadata": {},
     "output_type": "execute_result"
    },
    {
     "data": {
      "image/png": "[encoded data removed]",
      "text/plain": [
       "<Figure size 1154.25x360 with 1 Axes>"
      ]
     },
     "metadata": {
      "needs_background": "light"
     },
     "output_type": "display_data"
    }
   ],
   "source": [
    "# replace missing communication values with none \n",
    "train[\"Communication\"]=train[\"Communication\"].fillna(\"none\")\n",
    "facet = sns.FacetGrid(train, hue='CarInsurance',height=5,aspect=3)\n",
    "facet.map(plt.hist,'Communication',bins=3,alpha=0.5)\n",
    "facet.add_legend()"
   ]
  },
  {
   "cell_type": "markdown",
   "metadata": {},
   "source": [
    "Missing communication values, seem to have a lower success rate than both telephone and cellular "
   ]
  },
  {
   "cell_type": "markdown",
   "metadata": {
    "pycharm": {
     "name": "#%% md\n"
    }
   },
   "source": [
    "Categorical values need to be encoded so they can be included in the correlation matrix below and used in the classification "
   ]
  },
  {
   "cell_type": "code",
   "execution_count": 7,
   "metadata": {},
   "outputs": [
    {
     "data": {
      "text/html": [
       "<div>\n",
       "<style scoped>\n",
       "    .dataframe tbody tr th:only-of-type {\n",
       "        vertical-align: middle;\n",
       "    }\n",
       "\n",
       "    .dataframe tbody tr th {\n",
       "        vertical-align: top;\n",
       "    }\n",
       "\n",
       "    .dataframe thead th {\n",
       "        text-align: right;\n",
       "    }\n",
       "</style>\n",
       "<table border=\"1\" class=\"dataframe\">\n",
       "  <thead>\n",
       "    <tr style=\"text-align: right;\">\n",
       "      <th></th>\n",
       "      <th>Id</th>\n",
       "      <th>Age</th>\n",
       "      <th>Job</th>\n",
       "      <th>Marital</th>\n",
       "      <th>Education</th>\n",
       "      <th>Default</th>\n",
       "      <th>Balance</th>\n",
       "      <th>HHInsurance</th>\n",
       "      <th>CarLoan</th>\n",
       "      <th>Communication</th>\n",
       "      <th>LastContactDay</th>\n",
       "      <th>LastContactMonth</th>\n",
       "      <th>NoOfContacts</th>\n",
       "      <th>DaysPassed</th>\n",
       "      <th>PrevAttempts</th>\n",
       "      <th>Outcome</th>\n",
       "      <th>CallStart</th>\n",
       "      <th>CallEnd</th>\n",
       "      <th>CarInsurance</th>\n",
       "    </tr>\n",
       "  </thead>\n",
       "  <tbody>\n",
       "    <tr>\n",
       "      <th>0</th>\n",
       "      <td>1</td>\n",
       "      <td>32</td>\n",
       "      <td>4</td>\n",
       "      <td>2</td>\n",
       "      <td>2</td>\n",
       "      <td>0</td>\n",
       "      <td>1218</td>\n",
       "      <td>1</td>\n",
       "      <td>0</td>\n",
       "      <td>1</td>\n",
       "      <td>28</td>\n",
       "      <td>4</td>\n",
       "      <td>2</td>\n",
       "      <td>-1</td>\n",
       "      <td>0</td>\n",
       "      <td>3</td>\n",
       "      <td>13:45:20</td>\n",
       "      <td>13:46:30</td>\n",
       "      <td>0</td>\n",
       "    </tr>\n",
       "    <tr>\n",
       "      <th>1</th>\n",
       "      <td>2</td>\n",
       "      <td>32</td>\n",
       "      <td>1</td>\n",
       "      <td>1</td>\n",
       "      <td>0</td>\n",
       "      <td>0</td>\n",
       "      <td>1156</td>\n",
       "      <td>1</td>\n",
       "      <td>0</td>\n",
       "      <td>2</td>\n",
       "      <td>26</td>\n",
       "      <td>8</td>\n",
       "      <td>5</td>\n",
       "      <td>-1</td>\n",
       "      <td>0</td>\n",
       "      <td>3</td>\n",
       "      <td>14:49:03</td>\n",
       "      <td>14:52:08</td>\n",
       "      <td>0</td>\n",
       "    </tr>\n",
       "    <tr>\n",
       "      <th>2</th>\n",
       "      <td>3</td>\n",
       "      <td>29</td>\n",
       "      <td>4</td>\n",
       "      <td>2</td>\n",
       "      <td>2</td>\n",
       "      <td>0</td>\n",
       "      <td>637</td>\n",
       "      <td>1</td>\n",
       "      <td>0</td>\n",
       "      <td>0</td>\n",
       "      <td>3</td>\n",
       "      <td>6</td>\n",
       "      <td>1</td>\n",
       "      <td>119</td>\n",
       "      <td>1</td>\n",
       "      <td>0</td>\n",
       "      <td>16:30:24</td>\n",
       "      <td>16:36:04</td>\n",
       "      <td>1</td>\n",
       "    </tr>\n",
       "    <tr>\n",
       "      <th>3</th>\n",
       "      <td>4</td>\n",
       "      <td>25</td>\n",
       "      <td>8</td>\n",
       "      <td>2</td>\n",
       "      <td>0</td>\n",
       "      <td>0</td>\n",
       "      <td>373</td>\n",
       "      <td>1</td>\n",
       "      <td>0</td>\n",
       "      <td>0</td>\n",
       "      <td>11</td>\n",
       "      <td>8</td>\n",
       "      <td>2</td>\n",
       "      <td>-1</td>\n",
       "      <td>0</td>\n",
       "      <td>3</td>\n",
       "      <td>12:06:43</td>\n",
       "      <td>12:20:22</td>\n",
       "      <td>1</td>\n",
       "    </tr>\n",
       "    <tr>\n",
       "      <th>4</th>\n",
       "      <td>5</td>\n",
       "      <td>30</td>\n",
       "      <td>4</td>\n",
       "      <td>1</td>\n",
       "      <td>2</td>\n",
       "      <td>0</td>\n",
       "      <td>2694</td>\n",
       "      <td>0</td>\n",
       "      <td>0</td>\n",
       "      <td>0</td>\n",
       "      <td>3</td>\n",
       "      <td>6</td>\n",
       "      <td>1</td>\n",
       "      <td>-1</td>\n",
       "      <td>0</td>\n",
       "      <td>3</td>\n",
       "      <td>14:35:44</td>\n",
       "      <td>14:38:56</td>\n",
       "      <td>0</td>\n",
       "    </tr>\n",
       "  </tbody>\n",
       "</table>\n",
       "</div>"
      ],
      "text/plain": [
       "   Id  Age  Job  Marital  Education  Default  Balance  HHInsurance  CarLoan  \\\n",
       "0   1   32    4        2          2        0     1218            1        0   \n",
       "1   2   32    1        1          0        0     1156            1        0   \n",
       "2   3   29    4        2          2        0      637            1        0   \n",
       "3   4   25    8        2          0        0      373            1        0   \n",
       "4   5   30    4        1          2        0     2694            0        0   \n",
       "\n",
       "   Communication  LastContactDay  LastContactMonth  NoOfContacts  DaysPassed  \\\n",
       "0              1              28                 4             2          -1   \n",
       "1              2              26                 8             5          -1   \n",
       "2              0               3                 6             1         119   \n",
       "3              0              11                 8             2          -1   \n",
       "4              0               3                 6             1          -1   \n",
       "\n",
       "   PrevAttempts  Outcome CallStart   CallEnd  CarInsurance  \n",
       "0             0        3  13:45:20  13:46:30             0  \n",
       "1             0        3  14:49:03  14:52:08             0  \n",
       "2             1        0  16:30:24  16:36:04             1  \n",
       "3             0        3  12:06:43  12:20:22             1  \n",
       "4             0        3  14:35:44  14:38:56             0  "
      ]
     },
     "execution_count": 7,
     "metadata": {},
     "output_type": "execute_result"
    }
   ],
   "source": [
    "#encode categorical values \n",
    "le = LabelEncoder()\n",
    "df_en=train\n",
    "df_en['Job'] = le.fit_transform(train['Job'])\n",
    "df_en['Marital'] = le.fit_transform(train['Marital'])\n",
    "df_en['Education'] = le.fit_transform(train['Education'])\n",
    "df_en['Communication'] = le.fit_transform(train['Communication'])\n",
    "df_en['LastContactMonth'] = le.fit_transform(train['LastContactMonth'])\n",
    "df_en['Outcome'] = le.fit_transform(train['Outcome'])\n",
    "\n",
    "df_en.head()\n",
    "\n",
    "\n"
   ]
  },
  {
   "cell_type": "code",
   "execution_count": 8,
   "metadata": {},
   "outputs": [
    {
     "data": {
      "text/html": [
       "<style  type=\"text/css\" >\n",
       "#T_a0404_row0_col0,#T_a0404_row1_col1,#T_a0404_row2_col2,#T_a0404_row3_col3,#T_a0404_row4_col4,#T_a0404_row5_col5,#T_a0404_row6_col6,#T_a0404_row7_col7,#T_a0404_row8_col8,#T_a0404_row9_col9,#T_a0404_row10_col10,#T_a0404_row11_col11,#T_a0404_row12_col12,#T_a0404_row13_col13,#T_a0404_row14_col14,#T_a0404_row15_col15,#T_a0404_row16_col16{\n",
       "            background-color:  #008000;\n",
       "            color:  #f1f1f1;\n",
       "        }#T_a0404_row0_col1,#T_a0404_row0_col4,#T_a0404_row0_col5,#T_a0404_row0_col7,#T_a0404_row0_col8,#T_a0404_row0_col9,#T_a0404_row0_col15,#T_a0404_row1_col0,#T_a0404_row1_col5,#T_a0404_row1_col10,#T_a0404_row1_col14,#T_a0404_row2_col12,#T_a0404_row3_col6,#T_a0404_row5_col0,#T_a0404_row5_col1,#T_a0404_row5_col11,#T_a0404_row6_col3,#T_a0404_row6_col13,#T_a0404_row6_col14,#T_a0404_row7_col0,#T_a0404_row8_col0,#T_a0404_row8_col10,#T_a0404_row9_col0,#T_a0404_row9_col10,#T_a0404_row11_col5,#T_a0404_row11_col16,#T_a0404_row12_col2,#T_a0404_row12_col4,#T_a0404_row12_col7,#T_a0404_row13_col6,#T_a0404_row14_col1,#T_a0404_row14_col6,#T_a0404_row15_col0{\n",
       "            background-color:  #ebf3eb;\n",
       "            color:  #000000;\n",
       "        }#T_a0404_row0_col2,#T_a0404_row0_col6,#T_a0404_row0_col10,#T_a0404_row0_col12,#T_a0404_row0_col16,#T_a0404_row2_col0,#T_a0404_row2_col6,#T_a0404_row3_col5,#T_a0404_row5_col3,#T_a0404_row6_col0,#T_a0404_row6_col2,#T_a0404_row6_col10,#T_a0404_row6_col11,#T_a0404_row6_col12,#T_a0404_row7_col12,#T_a0404_row10_col4,#T_a0404_row12_col6,#T_a0404_row16_col11{\n",
       "            background-color:  #eaf2ea;\n",
       "            color:  #000000;\n",
       "        }#T_a0404_row0_col3,#T_a0404_row0_col11,#T_a0404_row1_col9,#T_a0404_row1_col15,#T_a0404_row3_col0,#T_a0404_row3_col8,#T_a0404_row5_col4,#T_a0404_row5_col10,#T_a0404_row7_col3,#T_a0404_row8_col3,#T_a0404_row8_col9,#T_a0404_row8_col12,#T_a0404_row8_col14,#T_a0404_row8_col15,#T_a0404_row9_col1,#T_a0404_row10_col0,#T_a0404_row11_col10,#T_a0404_row12_col8,#T_a0404_row13_col1,#T_a0404_row14_col8,#T_a0404_row15_col8,#T_a0404_row16_col0{\n",
       "            background-color:  #e7f1e7;\n",
       "            color:  #000000;\n",
       "        }#T_a0404_row0_col13,#T_a0404_row1_col13,#T_a0404_row3_col7,#T_a0404_row3_col11,#T_a0404_row4_col0,#T_a0404_row4_col12,#T_a0404_row5_col2,#T_a0404_row6_col15,#T_a0404_row7_col10,#T_a0404_row9_col8,#T_a0404_row10_col1,#T_a0404_row10_col6,#T_a0404_row13_col0,#T_a0404_row14_col4,#T_a0404_row15_col6{\n",
       "            background-color:  #e8f2e8;\n",
       "            color:  #000000;\n",
       "        }#T_a0404_row0_col14,#T_a0404_row1_col8,#T_a0404_row2_col5,#T_a0404_row3_col10,#T_a0404_row4_col10,#T_a0404_row5_col7,#T_a0404_row7_col5,#T_a0404_row8_col1,#T_a0404_row10_col8,#T_a0404_row10_col9,#T_a0404_row11_col6,#T_a0404_row12_col0,#T_a0404_row13_col4,#T_a0404_row14_col0{\n",
       "            background-color:  #e9f2e9;\n",
       "            color:  #000000;\n",
       "        }#T_a0404_row1_col2,#T_a0404_row2_col1,#T_a0404_row2_col8,#T_a0404_row3_col16,#T_a0404_row4_col15,#T_a0404_row5_col13,#T_a0404_row5_col15,#T_a0404_row6_col9,#T_a0404_row9_col6,#T_a0404_row11_col1,#T_a0404_row15_col5{\n",
       "            background-color:  #e3efe3;\n",
       "            color:  #000000;\n",
       "        }#T_a0404_row1_col3,#T_a0404_row3_col1{\n",
       "            background-color:  #87c287;\n",
       "            color:  #000000;\n",
       "        }#T_a0404_row1_col4{\n",
       "            background-color:  #cfe5cf;\n",
       "            color:  #000000;\n",
       "        }#T_a0404_row1_col6,#T_a0404_row2_col9,#T_a0404_row6_col1,#T_a0404_row9_col2{\n",
       "            background-color:  #d5e9d5;\n",
       "            color:  #000000;\n",
       "        }#T_a0404_row1_col7,#T_a0404_row7_col1{\n",
       "            background-color:  #c0dec0;\n",
       "            color:  #000000;\n",
       "        }#T_a0404_row1_col11,#T_a0404_row2_col10,#T_a0404_row2_col14,#T_a0404_row3_col14,#T_a0404_row5_col12,#T_a0404_row5_col14,#T_a0404_row6_col16,#T_a0404_row11_col8,#T_a0404_row12_col1,#T_a0404_row13_col5,#T_a0404_row14_col2,#T_a0404_row14_col3,#T_a0404_row14_col5,#T_a0404_row15_col2{\n",
       "            background-color:  #e4f0e4;\n",
       "            color:  #000000;\n",
       "        }#T_a0404_row1_col12,#T_a0404_row1_col16,#T_a0404_row2_col15,#T_a0404_row4_col5,#T_a0404_row4_col14,#T_a0404_row5_col9,#T_a0404_row5_col16,#T_a0404_row7_col14,#T_a0404_row8_col11,#T_a0404_row10_col5,#T_a0404_row12_col5,#T_a0404_row13_col2,#T_a0404_row15_col4{\n",
       "            background-color:  #e5f0e5;\n",
       "            color:  #000000;\n",
       "        }#T_a0404_row2_col3,#T_a0404_row3_col2,#T_a0404_row6_col8,#T_a0404_row7_col13,#T_a0404_row7_col15,#T_a0404_row8_col6,#T_a0404_row8_col16{\n",
       "            background-color:  #d8ead8;\n",
       "            color:  #000000;\n",
       "        }#T_a0404_row2_col4,#T_a0404_row4_col1{\n",
       "            background-color:  #cce4cc;\n",
       "            color:  #000000;\n",
       "        }#T_a0404_row2_col7,#T_a0404_row16_col14{\n",
       "            background-color:  #c9e2c8;\n",
       "            color:  #000000;\n",
       "        }#T_a0404_row2_col11,#T_a0404_row4_col6,#T_a0404_row4_col8,#T_a0404_row5_col6,#T_a0404_row6_col5,#T_a0404_row11_col14,#T_a0404_row11_col15{\n",
       "            background-color:  #dfeddf;\n",
       "            color:  #000000;\n",
       "        }#T_a0404_row2_col13,#T_a0404_row3_col12,#T_a0404_row4_col13,#T_a0404_row9_col5,#T_a0404_row10_col3,#T_a0404_row10_col7,#T_a0404_row10_col11,#T_a0404_row11_col0,#T_a0404_row11_col3,#T_a0404_row12_col3,#T_a0404_row14_col7,#T_a0404_row15_col1{\n",
       "            background-color:  #e6f1e6;\n",
       "            color:  #000000;\n",
       "        }#T_a0404_row2_col16,#T_a0404_row10_col15,#T_a0404_row13_col10{\n",
       "            background-color:  #dcecdc;\n",
       "            color:  #000000;\n",
       "        }#T_a0404_row3_col4,#T_a0404_row5_col8,#T_a0404_row8_col5{\n",
       "            background-color:  #cee5ce;\n",
       "            color:  #000000;\n",
       "        }#T_a0404_row3_col9,#T_a0404_row9_col3,#T_a0404_row10_col16,#T_a0404_row14_col11,#T_a0404_row15_col11,#T_a0404_row16_col10{\n",
       "            background-color:  #e0eedf;\n",
       "            color:  #000000;\n",
       "        }#T_a0404_row3_col13,#T_a0404_row3_col15,#T_a0404_row4_col11,#T_a0404_row6_col4,#T_a0404_row8_col4,#T_a0404_row8_col13,#T_a0404_row9_col12,#T_a0404_row11_col13,#T_a0404_row12_col9,#T_a0404_row13_col3,#T_a0404_row16_col6{\n",
       "            background-color:  #e1eee1;\n",
       "            color:  #000000;\n",
       "        }#T_a0404_row4_col2,#T_a0404_row10_col12{\n",
       "            background-color:  #c9e3c9;\n",
       "            color:  #000000;\n",
       "        }#T_a0404_row4_col3,#T_a0404_row12_col10{\n",
       "            background-color:  #cbe4cb;\n",
       "            color:  #000000;\n",
       "        }#T_a0404_row4_col7,#T_a0404_row12_col15,#T_a0404_row12_col16{\n",
       "            background-color:  #d3e7d3;\n",
       "            color:  #000000;\n",
       "        }#T_a0404_row4_col9,#T_a0404_row11_col12{\n",
       "            background-color:  #d1e6d1;\n",
       "            color:  #000000;\n",
       "        }#T_a0404_row4_col16,#T_a0404_row7_col8,#T_a0404_row8_col7,#T_a0404_row15_col16,#T_a0404_row16_col4{\n",
       "            background-color:  #d7e9d7;\n",
       "            color:  #000000;\n",
       "        }#T_a0404_row6_col7{\n",
       "            background-color:  #dbebdb;\n",
       "            color:  #000000;\n",
       "        }#T_a0404_row7_col2{\n",
       "            background-color:  #c8e2c8;\n",
       "            color:  #000000;\n",
       "        }#T_a0404_row7_col4,#T_a0404_row9_col4,#T_a0404_row12_col13,#T_a0404_row13_col12,#T_a0404_row16_col15{\n",
       "            background-color:  #d4e8d4;\n",
       "            color:  #000000;\n",
       "        }#T_a0404_row7_col6,#T_a0404_row10_col13,#T_a0404_row10_col14{\n",
       "            background-color:  #daebda;\n",
       "            color:  #000000;\n",
       "        }#T_a0404_row7_col9,#T_a0404_row9_col7,#T_a0404_row16_col7{\n",
       "            background-color:  #bcdcbc;\n",
       "            color:  #000000;\n",
       "        }#T_a0404_row7_col11,#T_a0404_row9_col16{\n",
       "            background-color:  #b8dab8;\n",
       "            color:  #000000;\n",
       "        }#T_a0404_row7_col16{\n",
       "            background-color:  #bdddbd;\n",
       "            color:  #000000;\n",
       "        }#T_a0404_row8_col2,#T_a0404_row10_col2,#T_a0404_row11_col4,#T_a0404_row13_col8,#T_a0404_row13_col11,#T_a0404_row16_col1,#T_a0404_row16_col5{\n",
       "            background-color:  #e2efe2;\n",
       "            color:  #000000;\n",
       "        }#T_a0404_row9_col11{\n",
       "            background-color:  #a8d2a8;\n",
       "            color:  #000000;\n",
       "        }#T_a0404_row9_col13{\n",
       "            background-color:  #b5d9b5;\n",
       "            color:  #000000;\n",
       "        }#T_a0404_row9_col14,#T_a0404_row14_col9{\n",
       "            background-color:  #c3e0c3;\n",
       "            color:  #000000;\n",
       "        }#T_a0404_row9_col15,#T_a0404_row15_col9{\n",
       "            background-color:  #aed5ae;\n",
       "            color:  #000000;\n",
       "        }#T_a0404_row11_col2,#T_a0404_row12_col14,#T_a0404_row14_col12,#T_a0404_row15_col10{\n",
       "            background-color:  #deedde;\n",
       "            color:  #000000;\n",
       "        }#T_a0404_row11_col7{\n",
       "            background-color:  #b7dab7;\n",
       "            color:  #000000;\n",
       "        }#T_a0404_row11_col9{\n",
       "            background-color:  #a7d2a7;\n",
       "            color:  #000000;\n",
       "        }#T_a0404_row12_col11,#T_a0404_row15_col12{\n",
       "            background-color:  #d2e7d2;\n",
       "            color:  #000000;\n",
       "        }#T_a0404_row13_col7,#T_a0404_row15_col7,#T_a0404_row16_col2{\n",
       "            background-color:  #d9ead9;\n",
       "            color:  #000000;\n",
       "        }#T_a0404_row13_col9{\n",
       "            background-color:  #b4d8b4;\n",
       "            color:  #000000;\n",
       "        }#T_a0404_row13_col14,#T_a0404_row14_col13{\n",
       "            background-color:  #77ba77;\n",
       "            color:  #000000;\n",
       "        }#T_a0404_row13_col15,#T_a0404_row15_col13{\n",
       "            background-color:  #299429;\n",
       "            color:  #000000;\n",
       "        }#T_a0404_row13_col16{\n",
       "            background-color:  #cde5cd;\n",
       "            color:  #000000;\n",
       "        }#T_a0404_row14_col10{\n",
       "            background-color:  #ddecdd;\n",
       "            color:  #000000;\n",
       "        }#T_a0404_row14_col15,#T_a0404_row15_col14{\n",
       "            background-color:  #6db66d;\n",
       "            color:  #000000;\n",
       "        }#T_a0404_row14_col16,#T_a0404_row16_col13{\n",
       "            background-color:  #cae3ca;\n",
       "            color:  #000000;\n",
       "        }#T_a0404_row15_col3,#T_a0404_row16_col3{\n",
       "            background-color:  #e0eee0;\n",
       "            color:  #000000;\n",
       "        }#T_a0404_row16_col8{\n",
       "            background-color:  #d6e9d6;\n",
       "            color:  #000000;\n",
       "        }#T_a0404_row16_col9{\n",
       "            background-color:  #b6d9b6;\n",
       "            color:  #000000;\n",
       "        }#T_a0404_row16_col12{\n",
       "            background-color:  #d0e6d0;\n",
       "            color:  #000000;\n",
       "        }</style><table id=\"T_a0404_\" ><thead>    <tr>        <th class=\"blank level0\" ></th>        <th class=\"col_heading level0 col0\" >Id</th>        <th class=\"col_heading level0 col1\" >Age</th>        <th class=\"col_heading level0 col2\" >Job</th>        <th class=\"col_heading level0 col3\" >Marital</th>        <th class=\"col_heading level0 col4\" >Education</th>        <th class=\"col_heading level0 col5\" >Default</th>        <th class=\"col_heading level0 col6\" >Balance</th>        <th class=\"col_heading level0 col7\" >HHInsurance</th>        <th class=\"col_heading level0 col8\" >CarLoan</th>        <th class=\"col_heading level0 col9\" >Communication</th>        <th class=\"col_heading level0 col10\" >LastContactDay</th>        <th class=\"col_heading level0 col11\" >LastContactMonth</th>        <th class=\"col_heading level0 col12\" >NoOfContacts</th>        <th class=\"col_heading level0 col13\" >DaysPassed</th>        <th class=\"col_heading level0 col14\" >PrevAttempts</th>        <th class=\"col_heading level0 col15\" >Outcome</th>        <th class=\"col_heading level0 col16\" >CarInsurance</th>    </tr></thead><tbody>\n",
       "                <tr>\n",
       "                        <th id=\"T_a0404_level0_row0\" class=\"row_heading level0 row0\" >Id</th>\n",
       "                        <td id=\"T_a0404_row0_col0\" class=\"data row0 col0\" >1.00</td>\n",
       "                        <td id=\"T_a0404_row0_col1\" class=\"data row0 col1\" >0.00</td>\n",
       "                        <td id=\"T_a0404_row0_col2\" class=\"data row0 col2\" >0.01</td>\n",
       "                        <td id=\"T_a0404_row0_col3\" class=\"data row0 col3\" >0.02</td>\n",
       "                        <td id=\"T_a0404_row0_col4\" class=\"data row0 col4\" >0.01</td>\n",
       "                        <td id=\"T_a0404_row0_col5\" class=\"data row0 col5\" >0.00</td>\n",
       "                        <td id=\"T_a0404_row0_col6\" class=\"data row0 col6\" >0.01</td>\n",
       "                        <td id=\"T_a0404_row0_col7\" class=\"data row0 col7\" >0.00</td>\n",
       "                        <td id=\"T_a0404_row0_col8\" class=\"data row0 col8\" >0.00</td>\n",
       "                        <td id=\"T_a0404_row0_col9\" class=\"data row0 col9\" >0.00</td>\n",
       "                        <td id=\"T_a0404_row0_col10\" class=\"data row0 col10\" >0.02</td>\n",
       "                        <td id=\"T_a0404_row0_col11\" class=\"data row0 col11\" >0.02</td>\n",
       "                        <td id=\"T_a0404_row0_col12\" class=\"data row0 col12\" >0.01</td>\n",
       "                        <td id=\"T_a0404_row0_col13\" class=\"data row0 col13\" >0.01</td>\n",
       "                        <td id=\"T_a0404_row0_col14\" class=\"data row0 col14\" >0.01</td>\n",
       "                        <td id=\"T_a0404_row0_col15\" class=\"data row0 col15\" >0.00</td>\n",
       "                        <td id=\"T_a0404_row0_col16\" class=\"data row0 col16\" >0.02</td>\n",
       "            </tr>\n",
       "            <tr>\n",
       "                        <th id=\"T_a0404_level0_row1\" class=\"row_heading level0 row1\" >Age</th>\n",
       "                        <td id=\"T_a0404_row1_col0\" class=\"data row1 col0\" >0.00</td>\n",
       "                        <td id=\"T_a0404_row1_col1\" class=\"data row1 col1\" >1.00</td>\n",
       "                        <td id=\"T_a0404_row1_col2\" class=\"data row1 col2\" >0.04</td>\n",
       "                        <td id=\"T_a0404_row1_col3\" class=\"data row1 col3\" >0.43</td>\n",
       "                        <td id=\"T_a0404_row1_col4\" class=\"data row1 col4\" >0.13</td>\n",
       "                        <td id=\"T_a0404_row1_col5\" class=\"data row1 col5\" >0.00</td>\n",
       "                        <td id=\"T_a0404_row1_col6\" class=\"data row1 col6\" >0.09</td>\n",
       "                        <td id=\"T_a0404_row1_col7\" class=\"data row1 col7\" >0.18</td>\n",
       "                        <td id=\"T_a0404_row1_col8\" class=\"data row1 col8\" >0.01</td>\n",
       "                        <td id=\"T_a0404_row1_col9\" class=\"data row1 col9\" >0.02</td>\n",
       "                        <td id=\"T_a0404_row1_col10\" class=\"data row1 col10\" >0.01</td>\n",
       "                        <td id=\"T_a0404_row1_col11\" class=\"data row1 col11\" >0.03</td>\n",
       "                        <td id=\"T_a0404_row1_col12\" class=\"data row1 col12\" >0.03</td>\n",
       "                        <td id=\"T_a0404_row1_col13\" class=\"data row1 col13\" >0.02</td>\n",
       "                        <td id=\"T_a0404_row1_col14\" class=\"data row1 col14\" >0.00</td>\n",
       "                        <td id=\"T_a0404_row1_col15\" class=\"data row1 col15\" >0.02</td>\n",
       "                        <td id=\"T_a0404_row1_col16\" class=\"data row1 col16\" >0.04</td>\n",
       "            </tr>\n",
       "            <tr>\n",
       "                        <th id=\"T_a0404_level0_row2\" class=\"row_heading level0 row2\" >Job</th>\n",
       "                        <td id=\"T_a0404_row2_col0\" class=\"data row2 col0\" >0.01</td>\n",
       "                        <td id=\"T_a0404_row2_col1\" class=\"data row2 col1\" >0.04</td>\n",
       "                        <td id=\"T_a0404_row2_col2\" class=\"data row2 col2\" >1.00</td>\n",
       "                        <td id=\"T_a0404_row2_col3\" class=\"data row2 col3\" >0.08</td>\n",
       "                        <td id=\"T_a0404_row2_col4\" class=\"data row2 col4\" >0.14</td>\n",
       "                        <td id=\"T_a0404_row2_col5\" class=\"data row2 col5\" >0.01</td>\n",
       "                        <td id=\"T_a0404_row2_col6\" class=\"data row2 col6\" >0.01</td>\n",
       "                        <td id=\"T_a0404_row2_col7\" class=\"data row2 col7\" >0.15</td>\n",
       "                        <td id=\"T_a0404_row2_col8\" class=\"data row2 col8\" >0.04</td>\n",
       "                        <td id=\"T_a0404_row2_col9\" class=\"data row2 col9\" >0.09</td>\n",
       "                        <td id=\"T_a0404_row2_col10\" class=\"data row2 col10\" >0.04</td>\n",
       "                        <td id=\"T_a0404_row2_col11\" class=\"data row2 col11\" >0.06</td>\n",
       "                        <td id=\"T_a0404_row2_col12\" class=\"data row2 col12\" >0.00</td>\n",
       "                        <td id=\"T_a0404_row2_col13\" class=\"data row2 col13\" >0.03</td>\n",
       "                        <td id=\"T_a0404_row2_col14\" class=\"data row2 col14\" >0.03</td>\n",
       "                        <td id=\"T_a0404_row2_col15\" class=\"data row2 col15\" >0.03</td>\n",
       "                        <td id=\"T_a0404_row2_col16\" class=\"data row2 col16\" >0.08</td>\n",
       "            </tr>\n",
       "            <tr>\n",
       "                        <th id=\"T_a0404_level0_row3\" class=\"row_heading level0 row3\" >Marital</th>\n",
       "                        <td id=\"T_a0404_row3_col0\" class=\"data row3 col0\" >0.02</td>\n",
       "                        <td id=\"T_a0404_row3_col1\" class=\"data row3 col1\" >0.43</td>\n",
       "                        <td id=\"T_a0404_row3_col2\" class=\"data row3 col2\" >0.08</td>\n",
       "                        <td id=\"T_a0404_row3_col3\" class=\"data row3 col3\" >1.00</td>\n",
       "                        <td id=\"T_a0404_row3_col4\" class=\"data row3 col4\" >0.14</td>\n",
       "                        <td id=\"T_a0404_row3_col5\" class=\"data row3 col5\" >0.01</td>\n",
       "                        <td id=\"T_a0404_row3_col6\" class=\"data row3 col6\" >0.00</td>\n",
       "                        <td id=\"T_a0404_row3_col7\" class=\"data row3 col7\" >0.02</td>\n",
       "                        <td id=\"T_a0404_row3_col8\" class=\"data row3 col8\" >0.02</td>\n",
       "                        <td id=\"T_a0404_row3_col9\" class=\"data row3 col9\" >0.05</td>\n",
       "                        <td id=\"T_a0404_row3_col10\" class=\"data row3 col10\" >0.02</td>\n",
       "                        <td id=\"T_a0404_row3_col11\" class=\"data row3 col11\" >0.02</td>\n",
       "                        <td id=\"T_a0404_row3_col12\" class=\"data row3 col12\" >0.02</td>\n",
       "                        <td id=\"T_a0404_row3_col13\" class=\"data row3 col13\" >0.04</td>\n",
       "                        <td id=\"T_a0404_row3_col14\" class=\"data row3 col14\" >0.03</td>\n",
       "                        <td id=\"T_a0404_row3_col15\" class=\"data row3 col15\" >0.04</td>\n",
       "                        <td id=\"T_a0404_row3_col16\" class=\"data row3 col16\" >0.05</td>\n",
       "            </tr>\n",
       "            <tr>\n",
       "                        <th id=\"T_a0404_level0_row4\" class=\"row_heading level0 row4\" >Education</th>\n",
       "                        <td id=\"T_a0404_row4_col0\" class=\"data row4 col0\" >0.01</td>\n",
       "                        <td id=\"T_a0404_row4_col1\" class=\"data row4 col1\" >0.13</td>\n",
       "                        <td id=\"T_a0404_row4_col2\" class=\"data row4 col2\" >0.14</td>\n",
       "                        <td id=\"T_a0404_row4_col3\" class=\"data row4 col3\" >0.14</td>\n",
       "                        <td id=\"T_a0404_row4_col4\" class=\"data row4 col4\" >1.00</td>\n",
       "                        <td id=\"T_a0404_row4_col5\" class=\"data row4 col5\" >0.03</td>\n",
       "                        <td id=\"T_a0404_row4_col6\" class=\"data row4 col6\" >0.05</td>\n",
       "                        <td id=\"T_a0404_row4_col7\" class=\"data row4 col7\" >0.11</td>\n",
       "                        <td id=\"T_a0404_row4_col8\" class=\"data row4 col8\" >0.05</td>\n",
       "                        <td id=\"T_a0404_row4_col9\" class=\"data row4 col9\" >0.11</td>\n",
       "                        <td id=\"T_a0404_row4_col10\" class=\"data row4 col10\" >0.02</td>\n",
       "                        <td id=\"T_a0404_row4_col11\" class=\"data row4 col11\" >0.05</td>\n",
       "                        <td id=\"T_a0404_row4_col12\" class=\"data row4 col12\" >0.01</td>\n",
       "                        <td id=\"T_a0404_row4_col13\" class=\"data row4 col13\" >0.02</td>\n",
       "                        <td id=\"T_a0404_row4_col14\" class=\"data row4 col14\" >0.03</td>\n",
       "                        <td id=\"T_a0404_row4_col15\" class=\"data row4 col15\" >0.04</td>\n",
       "                        <td id=\"T_a0404_row4_col16\" class=\"data row4 col16\" >0.09</td>\n",
       "            </tr>\n",
       "            <tr>\n",
       "                        <th id=\"T_a0404_level0_row5\" class=\"row_heading level0 row5\" >Default</th>\n",
       "                        <td id=\"T_a0404_row5_col0\" class=\"data row5 col0\" >0.00</td>\n",
       "                        <td id=\"T_a0404_row5_col1\" class=\"data row5 col1\" >0.00</td>\n",
       "                        <td id=\"T_a0404_row5_col2\" class=\"data row5 col2\" >0.01</td>\n",
       "                        <td id=\"T_a0404_row5_col3\" class=\"data row5 col3\" >0.01</td>\n",
       "                        <td id=\"T_a0404_row5_col4\" class=\"data row5 col4\" >0.03</td>\n",
       "                        <td id=\"T_a0404_row5_col5\" class=\"data row5 col5\" >1.00</td>\n",
       "                        <td id=\"T_a0404_row5_col6\" class=\"data row5 col6\" >0.05</td>\n",
       "                        <td id=\"T_a0404_row5_col7\" class=\"data row5 col7\" >0.01</td>\n",
       "                        <td id=\"T_a0404_row5_col8\" class=\"data row5 col8\" >0.12</td>\n",
       "                        <td id=\"T_a0404_row5_col9\" class=\"data row5 col9\" >0.02</td>\n",
       "                        <td id=\"T_a0404_row5_col10\" class=\"data row5 col10\" >0.03</td>\n",
       "                        <td id=\"T_a0404_row5_col11\" class=\"data row5 col11\" >0.01</td>\n",
       "                        <td id=\"T_a0404_row5_col12\" class=\"data row5 col12\" >0.03</td>\n",
       "                        <td id=\"T_a0404_row5_col13\" class=\"data row5 col13\" >0.03</td>\n",
       "                        <td id=\"T_a0404_row5_col14\" class=\"data row5 col14\" >0.03</td>\n",
       "                        <td id=\"T_a0404_row5_col15\" class=\"data row5 col15\" >0.04</td>\n",
       "                        <td id=\"T_a0404_row5_col16\" class=\"data row5 col16\" >0.04</td>\n",
       "            </tr>\n",
       "            <tr>\n",
       "                        <th id=\"T_a0404_level0_row6\" class=\"row_heading level0 row6\" >Balance</th>\n",
       "                        <td id=\"T_a0404_row6_col0\" class=\"data row6 col0\" >0.01</td>\n",
       "                        <td id=\"T_a0404_row6_col1\" class=\"data row6 col1\" >0.09</td>\n",
       "                        <td id=\"T_a0404_row6_col2\" class=\"data row6 col2\" >0.01</td>\n",
       "                        <td id=\"T_a0404_row6_col3\" class=\"data row6 col3\" >0.00</td>\n",
       "                        <td id=\"T_a0404_row6_col4\" class=\"data row6 col4\" >0.05</td>\n",
       "                        <td id=\"T_a0404_row6_col5\" class=\"data row6 col5\" >0.05</td>\n",
       "                        <td id=\"T_a0404_row6_col6\" class=\"data row6 col6\" >1.00</td>\n",
       "                        <td id=\"T_a0404_row6_col7\" class=\"data row6 col7\" >0.07</td>\n",
       "                        <td id=\"T_a0404_row6_col8\" class=\"data row6 col8\" >0.08</td>\n",
       "                        <td id=\"T_a0404_row6_col9\" class=\"data row6 col9\" >0.04</td>\n",
       "                        <td id=\"T_a0404_row6_col10\" class=\"data row6 col10\" >0.02</td>\n",
       "                        <td id=\"T_a0404_row6_col11\" class=\"data row6 col11\" >0.01</td>\n",
       "                        <td id=\"T_a0404_row6_col12\" class=\"data row6 col12\" >0.01</td>\n",
       "                        <td id=\"T_a0404_row6_col13\" class=\"data row6 col13\" >0.00</td>\n",
       "                        <td id=\"T_a0404_row6_col14\" class=\"data row6 col14\" >0.00</td>\n",
       "                        <td id=\"T_a0404_row6_col15\" class=\"data row6 col15\" >0.02</td>\n",
       "                        <td id=\"T_a0404_row6_col16\" class=\"data row6 col16\" >0.04</td>\n",
       "            </tr>\n",
       "            <tr>\n",
       "                        <th id=\"T_a0404_level0_row7\" class=\"row_heading level0 row7\" >HHInsurance</th>\n",
       "                        <td id=\"T_a0404_row7_col0\" class=\"data row7 col0\" >0.00</td>\n",
       "                        <td id=\"T_a0404_row7_col1\" class=\"data row7 col1\" >0.18</td>\n",
       "                        <td id=\"T_a0404_row7_col2\" class=\"data row7 col2\" >0.15</td>\n",
       "                        <td id=\"T_a0404_row7_col3\" class=\"data row7 col3\" >0.02</td>\n",
       "                        <td id=\"T_a0404_row7_col4\" class=\"data row7 col4\" >0.11</td>\n",
       "                        <td id=\"T_a0404_row7_col5\" class=\"data row7 col5\" >0.01</td>\n",
       "                        <td id=\"T_a0404_row7_col6\" class=\"data row7 col6\" >0.07</td>\n",
       "                        <td id=\"T_a0404_row7_col7\" class=\"data row7 col7\" >1.00</td>\n",
       "                        <td id=\"T_a0404_row7_col8\" class=\"data row7 col8\" >0.09</td>\n",
       "                        <td id=\"T_a0404_row7_col9\" class=\"data row7 col9\" >0.20</td>\n",
       "                        <td id=\"T_a0404_row7_col10\" class=\"data row7 col10\" >0.02</td>\n",
       "                        <td id=\"T_a0404_row7_col11\" class=\"data row7 col11\" >0.22</td>\n",
       "                        <td id=\"T_a0404_row7_col12\" class=\"data row7 col12\" >0.01</td>\n",
       "                        <td id=\"T_a0404_row7_col13\" class=\"data row7 col13\" >0.08</td>\n",
       "                        <td id=\"T_a0404_row7_col14\" class=\"data row7 col14\" >0.03</td>\n",
       "                        <td id=\"T_a0404_row7_col15\" class=\"data row7 col15\" >0.08</td>\n",
       "                        <td id=\"T_a0404_row7_col16\" class=\"data row7 col16\" >0.20</td>\n",
       "            </tr>\n",
       "            <tr>\n",
       "                        <th id=\"T_a0404_level0_row8\" class=\"row_heading level0 row8\" >CarLoan</th>\n",
       "                        <td id=\"T_a0404_row8_col0\" class=\"data row8 col0\" >0.00</td>\n",
       "                        <td id=\"T_a0404_row8_col1\" class=\"data row8 col1\" >0.01</td>\n",
       "                        <td id=\"T_a0404_row8_col2\" class=\"data row8 col2\" >0.04</td>\n",
       "                        <td id=\"T_a0404_row8_col3\" class=\"data row8 col3\" >0.02</td>\n",
       "                        <td id=\"T_a0404_row8_col4\" class=\"data row8 col4\" >0.05</td>\n",
       "                        <td id=\"T_a0404_row8_col5\" class=\"data row8 col5\" >0.12</td>\n",
       "                        <td id=\"T_a0404_row8_col6\" class=\"data row8 col6\" >0.08</td>\n",
       "                        <td id=\"T_a0404_row8_col7\" class=\"data row8 col7\" >0.09</td>\n",
       "                        <td id=\"T_a0404_row8_col8\" class=\"data row8 col8\" >1.00</td>\n",
       "                        <td id=\"T_a0404_row8_col9\" class=\"data row8 col9\" >0.02</td>\n",
       "                        <td id=\"T_a0404_row8_col10\" class=\"data row8 col10\" >0.01</td>\n",
       "                        <td id=\"T_a0404_row8_col11\" class=\"data row8 col11\" >0.03</td>\n",
       "                        <td id=\"T_a0404_row8_col12\" class=\"data row8 col12\" >0.02</td>\n",
       "                        <td id=\"T_a0404_row8_col13\" class=\"data row8 col13\" >0.04</td>\n",
       "                        <td id=\"T_a0404_row8_col14\" class=\"data row8 col14\" >0.02</td>\n",
       "                        <td id=\"T_a0404_row8_col15\" class=\"data row8 col15\" >0.02</td>\n",
       "                        <td id=\"T_a0404_row8_col16\" class=\"data row8 col16\" >0.09</td>\n",
       "            </tr>\n",
       "            <tr>\n",
       "                        <th id=\"T_a0404_level0_row9\" class=\"row_heading level0 row9\" >Communication</th>\n",
       "                        <td id=\"T_a0404_row9_col0\" class=\"data row9 col0\" >0.00</td>\n",
       "                        <td id=\"T_a0404_row9_col1\" class=\"data row9 col1\" >0.02</td>\n",
       "                        <td id=\"T_a0404_row9_col2\" class=\"data row9 col2\" >0.09</td>\n",
       "                        <td id=\"T_a0404_row9_col3\" class=\"data row9 col3\" >0.05</td>\n",
       "                        <td id=\"T_a0404_row9_col4\" class=\"data row9 col4\" >0.11</td>\n",
       "                        <td id=\"T_a0404_row9_col5\" class=\"data row9 col5\" >0.02</td>\n",
       "                        <td id=\"T_a0404_row9_col6\" class=\"data row9 col6\" >0.04</td>\n",
       "                        <td id=\"T_a0404_row9_col7\" class=\"data row9 col7\" >0.20</td>\n",
       "                        <td id=\"T_a0404_row9_col8\" class=\"data row9 col8\" >0.02</td>\n",
       "                        <td id=\"T_a0404_row9_col9\" class=\"data row9 col9\" >1.00</td>\n",
       "                        <td id=\"T_a0404_row9_col10\" class=\"data row9 col10\" >0.01</td>\n",
       "                        <td id=\"T_a0404_row9_col11\" class=\"data row9 col11\" >0.29</td>\n",
       "                        <td id=\"T_a0404_row9_col12\" class=\"data row9 col12\" >0.04</td>\n",
       "                        <td id=\"T_a0404_row9_col13\" class=\"data row9 col13\" >0.23</td>\n",
       "                        <td id=\"T_a0404_row9_col14\" class=\"data row9 col14\" >0.17</td>\n",
       "                        <td id=\"T_a0404_row9_col15\" class=\"data row9 col15\" >0.26</td>\n",
       "                        <td id=\"T_a0404_row9_col16\" class=\"data row9 col16\" >0.23</td>\n",
       "            </tr>\n",
       "            <tr>\n",
       "                        <th id=\"T_a0404_level0_row10\" class=\"row_heading level0 row10\" >LastContactDay</th>\n",
       "                        <td id=\"T_a0404_row10_col0\" class=\"data row10 col0\" >0.02</td>\n",
       "                        <td id=\"T_a0404_row10_col1\" class=\"data row10 col1\" >0.01</td>\n",
       "                        <td id=\"T_a0404_row10_col2\" class=\"data row10 col2\" >0.04</td>\n",
       "                        <td id=\"T_a0404_row10_col3\" class=\"data row10 col3\" >0.02</td>\n",
       "                        <td id=\"T_a0404_row10_col4\" class=\"data row10 col4\" >0.02</td>\n",
       "                        <td id=\"T_a0404_row10_col5\" class=\"data row10 col5\" >0.03</td>\n",
       "                        <td id=\"T_a0404_row10_col6\" class=\"data row10 col6\" >0.02</td>\n",
       "                        <td id=\"T_a0404_row10_col7\" class=\"data row10 col7\" >0.02</td>\n",
       "                        <td id=\"T_a0404_row10_col8\" class=\"data row10 col8\" >0.01</td>\n",
       "                        <td id=\"T_a0404_row10_col9\" class=\"data row10 col9\" >0.01</td>\n",
       "                        <td id=\"T_a0404_row10_col10\" class=\"data row10 col10\" >1.00</td>\n",
       "                        <td id=\"T_a0404_row10_col11\" class=\"data row10 col11\" >0.03</td>\n",
       "                        <td id=\"T_a0404_row10_col12\" class=\"data row10 col12\" >0.14</td>\n",
       "                        <td id=\"T_a0404_row10_col13\" class=\"data row10 col13\" >0.07</td>\n",
       "                        <td id=\"T_a0404_row10_col14\" class=\"data row10 col14\" >0.07</td>\n",
       "                        <td id=\"T_a0404_row10_col15\" class=\"data row10 col15\" >0.07</td>\n",
       "                        <td id=\"T_a0404_row10_col16\" class=\"data row10 col16\" >0.06</td>\n",
       "            </tr>\n",
       "            <tr>\n",
       "                        <th id=\"T_a0404_level0_row11\" class=\"row_heading level0 row11\" >LastContactMonth</th>\n",
       "                        <td id=\"T_a0404_row11_col0\" class=\"data row11 col0\" >0.02</td>\n",
       "                        <td id=\"T_a0404_row11_col1\" class=\"data row11 col1\" >0.03</td>\n",
       "                        <td id=\"T_a0404_row11_col2\" class=\"data row11 col2\" >0.06</td>\n",
       "                        <td id=\"T_a0404_row11_col3\" class=\"data row11 col3\" >0.02</td>\n",
       "                        <td id=\"T_a0404_row11_col4\" class=\"data row11 col4\" >0.05</td>\n",
       "                        <td id=\"T_a0404_row11_col5\" class=\"data row11 col5\" >0.01</td>\n",
       "                        <td id=\"T_a0404_row11_col6\" class=\"data row11 col6\" >0.01</td>\n",
       "                        <td id=\"T_a0404_row11_col7\" class=\"data row11 col7\" >0.22</td>\n",
       "                        <td id=\"T_a0404_row11_col8\" class=\"data row11 col8\" >0.03</td>\n",
       "                        <td id=\"T_a0404_row11_col9\" class=\"data row11 col9\" >0.29</td>\n",
       "                        <td id=\"T_a0404_row11_col10\" class=\"data row11 col10\" >0.03</td>\n",
       "                        <td id=\"T_a0404_row11_col11\" class=\"data row11 col11\" >1.00</td>\n",
       "                        <td id=\"T_a0404_row11_col12\" class=\"data row11 col12\" >0.11</td>\n",
       "                        <td id=\"T_a0404_row11_col13\" class=\"data row11 col13\" >0.04</td>\n",
       "                        <td id=\"T_a0404_row11_col14\" class=\"data row11 col14\" >0.05</td>\n",
       "                        <td id=\"T_a0404_row11_col15\" class=\"data row11 col15\" >0.06</td>\n",
       "                        <td id=\"T_a0404_row11_col16\" class=\"data row11 col16\" >0.01</td>\n",
       "            </tr>\n",
       "            <tr>\n",
       "                        <th id=\"T_a0404_level0_row12\" class=\"row_heading level0 row12\" >NoOfContacts</th>\n",
       "                        <td id=\"T_a0404_row12_col0\" class=\"data row12 col0\" >0.01</td>\n",
       "                        <td id=\"T_a0404_row12_col1\" class=\"data row12 col1\" >0.03</td>\n",
       "                        <td id=\"T_a0404_row12_col2\" class=\"data row12 col2\" >0.00</td>\n",
       "                        <td id=\"T_a0404_row12_col3\" class=\"data row12 col3\" >0.02</td>\n",
       "                        <td id=\"T_a0404_row12_col4\" class=\"data row12 col4\" >0.01</td>\n",
       "                        <td id=\"T_a0404_row12_col5\" class=\"data row12 col5\" >0.03</td>\n",
       "                        <td id=\"T_a0404_row12_col6\" class=\"data row12 col6\" >0.01</td>\n",
       "                        <td id=\"T_a0404_row12_col7\" class=\"data row12 col7\" >0.01</td>\n",
       "                        <td id=\"T_a0404_row12_col8\" class=\"data row12 col8\" >0.02</td>\n",
       "                        <td id=\"T_a0404_row12_col9\" class=\"data row12 col9\" >0.04</td>\n",
       "                        <td id=\"T_a0404_row12_col10\" class=\"data row12 col10\" >0.14</td>\n",
       "                        <td id=\"T_a0404_row12_col11\" class=\"data row12 col11\" >0.11</td>\n",
       "                        <td id=\"T_a0404_row12_col12\" class=\"data row12 col12\" >1.00</td>\n",
       "                        <td id=\"T_a0404_row12_col13\" class=\"data row12 col13\" >0.10</td>\n",
       "                        <td id=\"T_a0404_row12_col14\" class=\"data row12 col14\" >0.06</td>\n",
       "                        <td id=\"T_a0404_row12_col15\" class=\"data row12 col15\" >0.11</td>\n",
       "                        <td id=\"T_a0404_row12_col16\" class=\"data row12 col16\" >0.11</td>\n",
       "            </tr>\n",
       "            <tr>\n",
       "                        <th id=\"T_a0404_level0_row13\" class=\"row_heading level0 row13\" >DaysPassed</th>\n",
       "                        <td id=\"T_a0404_row13_col0\" class=\"data row13 col0\" >0.01</td>\n",
       "                        <td id=\"T_a0404_row13_col1\" class=\"data row13 col1\" >0.02</td>\n",
       "                        <td id=\"T_a0404_row13_col2\" class=\"data row13 col2\" >0.03</td>\n",
       "                        <td id=\"T_a0404_row13_col3\" class=\"data row13 col3\" >0.04</td>\n",
       "                        <td id=\"T_a0404_row13_col4\" class=\"data row13 col4\" >0.02</td>\n",
       "                        <td id=\"T_a0404_row13_col5\" class=\"data row13 col5\" >0.03</td>\n",
       "                        <td id=\"T_a0404_row13_col6\" class=\"data row13 col6\" >0.00</td>\n",
       "                        <td id=\"T_a0404_row13_col7\" class=\"data row13 col7\" >0.08</td>\n",
       "                        <td id=\"T_a0404_row13_col8\" class=\"data row13 col8\" >0.04</td>\n",
       "                        <td id=\"T_a0404_row13_col9\" class=\"data row13 col9\" >0.23</td>\n",
       "                        <td id=\"T_a0404_row13_col10\" class=\"data row13 col10\" >0.07</td>\n",
       "                        <td id=\"T_a0404_row13_col11\" class=\"data row13 col11\" >0.04</td>\n",
       "                        <td id=\"T_a0404_row13_col12\" class=\"data row13 col12\" >0.10</td>\n",
       "                        <td id=\"T_a0404_row13_col13\" class=\"data row13 col13\" >1.00</td>\n",
       "                        <td id=\"T_a0404_row13_col14\" class=\"data row13 col14\" >0.50</td>\n",
       "                        <td id=\"T_a0404_row13_col15\" class=\"data row13 col15\" >0.82</td>\n",
       "                        <td id=\"T_a0404_row13_col16\" class=\"data row13 col16\" >0.14</td>\n",
       "            </tr>\n",
       "            <tr>\n",
       "                        <th id=\"T_a0404_level0_row14\" class=\"row_heading level0 row14\" >PrevAttempts</th>\n",
       "                        <td id=\"T_a0404_row14_col0\" class=\"data row14 col0\" >0.01</td>\n",
       "                        <td id=\"T_a0404_row14_col1\" class=\"data row14 col1\" >0.00</td>\n",
       "                        <td id=\"T_a0404_row14_col2\" class=\"data row14 col2\" >0.03</td>\n",
       "                        <td id=\"T_a0404_row14_col3\" class=\"data row14 col3\" >0.03</td>\n",
       "                        <td id=\"T_a0404_row14_col4\" class=\"data row14 col4\" >0.03</td>\n",
       "                        <td id=\"T_a0404_row14_col5\" class=\"data row14 col5\" >0.03</td>\n",
       "                        <td id=\"T_a0404_row14_col6\" class=\"data row14 col6\" >0.00</td>\n",
       "                        <td id=\"T_a0404_row14_col7\" class=\"data row14 col7\" >0.03</td>\n",
       "                        <td id=\"T_a0404_row14_col8\" class=\"data row14 col8\" >0.02</td>\n",
       "                        <td id=\"T_a0404_row14_col9\" class=\"data row14 col9\" >0.17</td>\n",
       "                        <td id=\"T_a0404_row14_col10\" class=\"data row14 col10\" >0.07</td>\n",
       "                        <td id=\"T_a0404_row14_col11\" class=\"data row14 col11\" >0.05</td>\n",
       "                        <td id=\"T_a0404_row14_col12\" class=\"data row14 col12\" >0.06</td>\n",
       "                        <td id=\"T_a0404_row14_col13\" class=\"data row14 col13\" >0.50</td>\n",
       "                        <td id=\"T_a0404_row14_col14\" class=\"data row14 col14\" >1.00</td>\n",
       "                        <td id=\"T_a0404_row14_col15\" class=\"data row14 col15\" >0.54</td>\n",
       "                        <td id=\"T_a0404_row14_col16\" class=\"data row14 col16\" >0.15</td>\n",
       "            </tr>\n",
       "            <tr>\n",
       "                        <th id=\"T_a0404_level0_row15\" class=\"row_heading level0 row15\" >Outcome</th>\n",
       "                        <td id=\"T_a0404_row15_col0\" class=\"data row15 col0\" >0.00</td>\n",
       "                        <td id=\"T_a0404_row15_col1\" class=\"data row15 col1\" >0.02</td>\n",
       "                        <td id=\"T_a0404_row15_col2\" class=\"data row15 col2\" >0.03</td>\n",
       "                        <td id=\"T_a0404_row15_col3\" class=\"data row15 col3\" >0.04</td>\n",
       "                        <td id=\"T_a0404_row15_col4\" class=\"data row15 col4\" >0.04</td>\n",
       "                        <td id=\"T_a0404_row15_col5\" class=\"data row15 col5\" >0.04</td>\n",
       "                        <td id=\"T_a0404_row15_col6\" class=\"data row15 col6\" >0.02</td>\n",
       "                        <td id=\"T_a0404_row15_col7\" class=\"data row15 col7\" >0.08</td>\n",
       "                        <td id=\"T_a0404_row15_col8\" class=\"data row15 col8\" >0.02</td>\n",
       "                        <td id=\"T_a0404_row15_col9\" class=\"data row15 col9\" >0.26</td>\n",
       "                        <td id=\"T_a0404_row15_col10\" class=\"data row15 col10\" >0.07</td>\n",
       "                        <td id=\"T_a0404_row15_col11\" class=\"data row15 col11\" >0.06</td>\n",
       "                        <td id=\"T_a0404_row15_col12\" class=\"data row15 col12\" >0.11</td>\n",
       "                        <td id=\"T_a0404_row15_col13\" class=\"data row15 col13\" >0.82</td>\n",
       "                        <td id=\"T_a0404_row15_col14\" class=\"data row15 col14\" >0.54</td>\n",
       "                        <td id=\"T_a0404_row15_col15\" class=\"data row15 col15\" >1.00</td>\n",
       "                        <td id=\"T_a0404_row15_col16\" class=\"data row15 col16\" >0.10</td>\n",
       "            </tr>\n",
       "            <tr>\n",
       "                        <th id=\"T_a0404_level0_row16\" class=\"row_heading level0 row16\" >CarInsurance</th>\n",
       "                        <td id=\"T_a0404_row16_col0\" class=\"data row16 col0\" >0.02</td>\n",
       "                        <td id=\"T_a0404_row16_col1\" class=\"data row16 col1\" >0.04</td>\n",
       "                        <td id=\"T_a0404_row16_col2\" class=\"data row16 col2\" >0.08</td>\n",
       "                        <td id=\"T_a0404_row16_col3\" class=\"data row16 col3\" >0.05</td>\n",
       "                        <td id=\"T_a0404_row16_col4\" class=\"data row16 col4\" >0.09</td>\n",
       "                        <td id=\"T_a0404_row16_col5\" class=\"data row16 col5\" >0.04</td>\n",
       "                        <td id=\"T_a0404_row16_col6\" class=\"data row16 col6\" >0.04</td>\n",
       "                        <td id=\"T_a0404_row16_col7\" class=\"data row16 col7\" >0.20</td>\n",
       "                        <td id=\"T_a0404_row16_col8\" class=\"data row16 col8\" >0.09</td>\n",
       "                        <td id=\"T_a0404_row16_col9\" class=\"data row16 col9\" >0.23</td>\n",
       "                        <td id=\"T_a0404_row16_col10\" class=\"data row16 col10\" >0.06</td>\n",
       "                        <td id=\"T_a0404_row16_col11\" class=\"data row16 col11\" >0.01</td>\n",
       "                        <td id=\"T_a0404_row16_col12\" class=\"data row16 col12\" >0.11</td>\n",
       "                        <td id=\"T_a0404_row16_col13\" class=\"data row16 col13\" >0.14</td>\n",
       "                        <td id=\"T_a0404_row16_col14\" class=\"data row16 col14\" >0.15</td>\n",
       "                        <td id=\"T_a0404_row16_col15\" class=\"data row16 col15\" >0.10</td>\n",
       "                        <td id=\"T_a0404_row16_col16\" class=\"data row16 col16\" >1.00</td>\n",
       "            </tr>\n",
       "    </tbody></table>"
      ],
      "text/plain": [
       "<pandas.io.formats.style.Styler at 0x1ca2bf6dc48>"
      ]
     },
     "execution_count": 8,
     "metadata": {},
     "output_type": "execute_result"
    }
   ],
   "source": [
    "corr = df_en.corr().abs() \n",
    "cm = sns.light_palette(\"green\", as_cmap=True)\n",
    "corr.style.background_gradient(cmap=cm).set_precision(2)"
   ]
  },
  {
   "cell_type": "markdown",
   "metadata": {
    "pycharm": {
     "name": "#%% md\n"
    }
   },
   "source": [
    "All columns with Nan values have fairly correlations to the outcome, so we might get away with dropping them all together "
   ]
  },
  {
   "cell_type": "code",
   "execution_count": 275,
   "metadata": {},
   "outputs": [],
   "source": [
    "# low correlations so we drop \n",
    "df_en=df_en.drop('Outcome',axis=1)\n",
    "df_en=df_en.drop('Job',axis=1)\n",
    "df_en=df_en.drop('Education',axis=1)\n"
   ]
  },
  {
   "cell_type": "markdown",
   "metadata": {},
   "source": [
    "Taking a closer look at (non 0/1 ) values with high correlation to the output. \n",
    "\n",
    "A higher number of contacts seems to in general deter customers. PrevAttempts behaves similar but a much lesser extend and with some outliers for positives outcomes. "
   ]
  },
  {
   "cell_type": "code",
   "execution_count": 276,
   "metadata": {},
   "outputs": [
    {
     "name": "stdout",
     "output_type": "stream",
     "text": [
      "most relevant features: \n",
      "HHInsurance      0.203419\n",
      "Communication    0.136901\n",
      "NoOfContacts     0.114884\n",
      "DaysPassed       0.138943\n",
      "PrevAttempts     0.148763\n",
      "CarInsurance     1.000000\n",
      "CallDuration     0.480229\n",
      "Name: CarInsurance, dtype: float64\n"
     ]
    }
   ],
   "source": [
    "target = corr[\"CarInsurance\"]\n",
    "features = target[target>=0.1]\n",
    "print(\"most relevant features: \")\n",
    "print(features)"
   ]
  },
  {
   "cell_type": "code",
   "execution_count": 279,
   "metadata": {},
   "outputs": [
    {
     "data": {
      "image/png": "[encoded data removed]",
      "text/plain": [
       "<Figure size 720x180 with 4 Axes>"
      ]
     },
     "metadata": {
      "needs_background": "light"
     },
     "output_type": "display_data"
    }
   ],
   "source": [
    "sns.pairplot(train,   y_vars=['CarInsurance'],\n",
    "                  x_vars=['NoOfContacts', 'PrevAttempts','CallDuration', 'DaysPassed']);"
   ]
  },
  {
   "cell_type": "markdown",
   "metadata": {
    "pycharm": {
     "name": "#%% md\n"
    }
   },
   "source": [
    "# Classification "
   ]
  },
  {
   "cell_type": "code",
   "execution_count": 199,
   "metadata": {},
   "outputs": [],
   "source": [
    "# from https://scikit-learn.org/stable/auto_examples/model_selection/plot_learning_curve.html\n",
    "def plot_learning_curve(estimator, title, X, y, axes=None, ylim=None, cv=None,\n",
    "                        n_jobs=None, train_sizes=np.linspace(.1, 1.0, 5), scoring=\"f1\"):\n",
    "\n",
    "    if axes is None:\n",
    "        _, axes = plt.subplots(1, 3, figsize=(20, 5))\n",
    "\n",
    "    axes[0].set_title(title)\n",
    "    if ylim is not None:\n",
    "        axes[0].set_ylim(*ylim)\n",
    "    axes[0].set_xlabel(\"Training examples\")\n",
    "    axes[0].set_ylabel(\"Score\")\n",
    "\n",
    "    train_sizes, train_scores, test_scores, fit_times, _ = \\\n",
    "        learning_curve(estimator, X, y, cv=cv, n_jobs=n_jobs,\n",
    "                       train_sizes=train_sizes,\n",
    "                       return_times=True,\n",
    "                       scoring=scoring)\n",
    "    train_scores_mean = np.mean(train_scores, axis=1)\n",
    "    train_scores_std = np.std(train_scores, axis=1)\n",
    "    test_scores_mean = np.mean(test_scores, axis=1)\n",
    "    test_scores_std = np.std(test_scores, axis=1)\n",
    "    fit_times_mean = np.mean(fit_times, axis=1)\n",
    "    fit_times_std = np.std(fit_times, axis=1)\n",
    "\n",
    "    # Plot learning curve\n",
    "    axes[0].grid()\n",
    "    axes[0].fill_between(train_sizes, train_scores_mean - train_scores_std,\n",
    "                         train_scores_mean + train_scores_std, alpha=0.1,\n",
    "                         color=\"r\")\n",
    "    axes[0].fill_between(train_sizes, test_scores_mean - test_scores_std,\n",
    "                         test_scores_mean + test_scores_std, alpha=0.1,\n",
    "                         color=\"g\")\n",
    "    axes[0].plot(train_sizes, train_scores_mean, 'o-', color=\"r\",\n",
    "                 label=\"Training score\")\n",
    "    axes[0].plot(train_sizes, test_scores_mean, 'o-', color=\"g\",\n",
    "                 label=\"Cross-validation score\")\n",
    "    axes[0].legend(loc=\"best\")\n",
    "\n",
    "    # Plot n_samples vs fit_times\n",
    "    axes[1].grid()\n",
    "    axes[1].plot(train_sizes, fit_times_mean, 'o-')\n",
    "    axes[1].fill_between(train_sizes, fit_times_mean - fit_times_std,\n",
    "                         fit_times_mean + fit_times_std, alpha=0.1)\n",
    "    axes[1].set_xlabel(\"Training examples\")\n",
    "    axes[1].set_ylabel(\"fit_times\")\n",
    "    axes[1].set_title(\"Scalability of the model\")\n",
    "\n",
    "    # Plot fit_time vs score\n",
    "    axes[2].grid()\n",
    "    axes[2].plot(fit_times_mean, test_scores_mean, 'o-')\n",
    "    axes[2].fill_between(fit_times_mean, test_scores_mean - test_scores_std,\n",
    "                         test_scores_mean + test_scores_std, alpha=0.1)\n",
    "    axes[2].set_xlabel(\"fit_times\")\n",
    "    axes[2].set_ylabel(\"Score\")\n",
    "    axes[2].set_title(\"Performance of the model\")\n",
    "\n",
    "    return plt\n",
    "\n",
    "# from https://scikit-learn.org/stable/auto_examples/model_selection/plot_validation_curve.html\n",
    "def create_validation_curve(x, y, learner, param, param_range, scoring=\"f1\", title=\"\", ymin=0, ymax=1.01):\n",
    "    train_scores, test_scores = validation_curve(\n",
    "        learner, x, y, param_name=param, param_range=param_range,\n",
    "        scoring=scoring, n_jobs=1)\n",
    "    train_scores_mean = np.mean(train_scores, axis=1)\n",
    "    test_scores_mean = np.mean(test_scores, axis=1)\n",
    "\n",
    "    plt.title(title)\n",
    "    plt.xlabel(param)\n",
    "    plt.ylabel(\"Score\")\n",
    "    plt.ylim(ymin, ymax)\n",
    "    lw = 2\n",
    "    plt.plot(param_range, train_scores_mean, label=\"Training score\",\n",
    "             color=\"darkorange\")\n",
    "    plt.plot(param_range, test_scores_mean, label=\"Cross-validation score\",\n",
    "             color=\"navy\")\n",
    "    plt.legend(loc=\"best\")\n",
    "    plt.show()\n",
    "\n"
   ]
  },
  {
   "cell_type": "code",
   "execution_count": 280,
   "metadata": {},
   "outputs": [],
   "source": [
    "x = df_en.drop('CarInsurance', axis=1)\n",
    "y = df_en['CarInsurance']\n",
    "x, X_test, y, y_test = train_test_split( x, y, test_size=0.33, random_state=42)\n"
   ]
  },
  {
   "cell_type": "markdown",
   "metadata": {
    "pycharm": {
     "name": "#%% md\n"
    }
   },
   "source": [
    "## Random Forest"
   ]
  },
  {
   "cell_type": "markdown",
   "metadata": {
    "pycharm": {
     "name": "#%% md\n"
    }
   },
   "source": [
    "The learning curve for default parameters shows low bias and high variance. The model appears to be overfitting, so we can look at some hyperparameters that might reduce over fitting. "
   ]
  },
  {
   "cell_type": "code",
   "execution_count": null,
   "metadata": {
    "pycharm": {
     "name": "#%%\n"
    }
   },
   "outputs": [],
   "source": [
    "learner = RandomForestClassifier(random_state=0)\n",
    "plt=plot_learning_curve(learner, \"Learning Curve -Random Forest - default\", x,y, train_sizes=[ 0.1, 0.2, 0.3, 0.4, 0.5, 0.6, 0.7, 0.8, 0.9, 1])\n",
    "plt.show()"
   ]
  },
  {
   "cell_type": "code",
   "execution_count": null,
   "metadata": {
    "pycharm": {
     "name": "#%%\n"
    }
   },
   "outputs": [],
   "source": [
    "depths=[1,2,5,10,15,20,30]\n",
    "learner = RandomForestClassifier(random_state=0)\n",
    "create_validation_curve(x,y, learner, \"max_depth\", depths, title=\"Validation Curve- RF - max depth\")\n",
    "\n"
   ]
  },
  {
   "cell_type": "code",
   "execution_count": null,
   "metadata": {
    "pycharm": {
     "name": "#%%\n"
    }
   },
   "outputs": [],
   "source": [
    "alphas=[0.0,0.0001,0.001,0.001]\n",
    "learner = RandomForestClassifier(random_state=0)\n",
    "create_validation_curve(x,y, learner, \"ccp_alpha\", alphas, title=\"Validation Curve- RF - post pruning\")"
   ]
  },
  {
   "cell_type": "code",
   "execution_count": null,
   "metadata": {
    "pycharm": {
     "name": "#%%\n"
    }
   },
   "outputs": [],
   "source": [
    "estimators=[2,3,5,7,10,20,40,]\n",
    "learner = RandomForestClassifier(random_state=0)\n",
    "create_validation_curve(x,y, learner, \"n_estimators\", estimators, title=\"Validation Curve- RF - estimators\")"
   ]
  },
  {
   "cell_type": "markdown",
   "metadata": {},
   "source": [
    "Run GridSearchCV with a reduced search space derived from the validation curves above, where the selected value attempt to achieve a decent bias/ variance balance\n"
   ]
  },
  {
   "cell_type": "code",
   "execution_count": null,
   "metadata": {
    "pycharm": {
     "name": "#%%\n"
    }
   },
   "outputs": [],
   "source": [
    "parameters = {'n_estimators':[5,6,7], \n",
    "              'ccp_alpha':[0.0003,0.0004, 0.0005], \n",
    "              'max_depth':[5,6,7,8,9]}\n",
    "clf  = GridSearchCV(estimator = RandomForestClassifier(random_state=0),param_grid = parameters,cv=3, scoring=\"f1\")\n",
    "clf .fit(x,y)\n",
    "        \n",
    "print(clf.best_params_)"
   ]
  },
  {
   "cell_type": "code",
   "execution_count": null,
   "metadata": {
    "pycharm": {
     "name": "#%%\n"
    }
   },
   "outputs": [],
   "source": [
    "learner = RandomForestClassifier(ccp_alpha= 0.0003, max_depth= 9, n_estimators= 7, random_state=0)\n",
    "plt=plot_learning_curve(learner, \"Learning Curve -Random Forest\", x,y, train_sizes=[ 0.1, 0.2, 0.3, 0.4, 0.5, 0.6, 0.7, 0.8, 0.9, 1])\n",
    "plt.show()"
   ]
  },
  {
   "cell_type": "code",
   "execution_count": null,
   "metadata": {
    "pycharm": {
     "name": "#%%\n"
    }
   },
   "outputs": [],
   "source": [
    "rf = RandomForestClassifier(ccp_alpha= 0.0003, max_depth= 9, n_estimators= 7, random_state=0)\n",
    "rf.fit(x,y)\n",
    "score= f1_score( y_test, rf.predict(X_test) )\n",
    "acc=  accuracy_score( y_test, rf.predict(X_test) )\n",
    "print(\"Accuracy\", acc)\n",
    "print(\"F1 Score: \", score )"
   ]
  },
  {
   "cell_type": "code",
   "execution_count": null,
   "metadata": {
    "pycharm": {
     "name": "#%%\n"
    }
   },
   "outputs": [],
   "source": [
    "plot_confusion_matrix(rf, X_test, y_test) "
   ]
  },
  {
   "cell_type": "code",
   "execution_count": null,
   "metadata": {
    "pycharm": {
     "name": "#%%\n"
    }
   },
   "outputs": [],
   "source": [
    "depths=[1,2,5,10,15,20,30]\n",
    "learner = RandomForestClassifier(random_state=0)\n",
    "create_validation_curve(x,y, learner, \"max_depth\", depths, title=\"Validation Curve- RF - max depth\")\n",
    "\n"
   ]
  },
  {
   "cell_type": "code",
   "execution_count": null,
   "metadata": {
    "pycharm": {
     "name": "#%%\n"
    }
   },
   "outputs": [],
   "source": [
    "alphas=[0.0,0.0001,0.001,0.001]\n",
    "learner = RandomForestClassifier(random_state=0)\n",
    "create_validation_curve(x,y, learner, \"ccp_alpha\", alphas, title=\"Validation Curve- RF - post pruning\")"
   ]
  },
  {
   "cell_type": "code",
   "execution_count": null,
   "metadata": {
    "pycharm": {
     "name": "#%%\n"
    }
   },
   "outputs": [],
   "source": [
    "estimators=[2,3,5,7,10,20,40,]\n",
    "learner = RandomForestClassifier(random_state=0)\n",
    "create_validation_curve(x,y, learner, \"n_estimators\", estimators, title=\"Validation Curve- RF - estimators\")"
   ]
  },
  {
   "cell_type": "markdown",
   "metadata": {},
   "source": [
    "Run GridSearchCV with a reduced search space derived from the validation curves above, where the selected value attempt to achieve a decent bias/ variance balance\n"
   ]
  },
  {
   "cell_type": "code",
   "execution_count": null,
   "metadata": {
    "pycharm": {
     "name": "#%%\n"
    }
   },
   "outputs": [],
   "source": [
    "parameters = {'n_estimators':[5,6,7], \n",
    "              'ccp_alpha':[0.0003,0.0004, 0.0005], \n",
    "              'max_depth':[5,6,7,8,9]}\n",
    "clf  = GridSearchCV(estimator = RandomForestClassifier(random_state=0),param_grid = parameters,cv=3, scoring=\"f1\")\n",
    "clf .fit(x,y)\n",
    "        \n",
    "print(clf.best_params_)"
   ]
  },
  {
   "cell_type": "code",
   "execution_count": null,
   "metadata": {
    "pycharm": {
     "name": "#%%\n"
    }
   },
   "outputs": [],
   "source": [
    "learner = RandomForestClassifier(ccp_alpha= 0.0003, max_depth= 9, n_estimators= 7, random_state=0)\n",
    "plt=plot_learning_curve(learner, \"Learning Curve -Random Forest\", x,y, train_sizes=[ 0.1, 0.2, 0.3, 0.4, 0.5, 0.6, 0.7, 0.8, 0.9, 1])\n",
    "plt.show()"
   ]
  },
  {
   "cell_type": "code",
   "execution_count": null,
   "metadata": {
    "pycharm": {
     "name": "#%%\n"
    }
   },
   "outputs": [],
   "source": [
    "rf = RandomForestClassifier(ccp_alpha= 0.0003, max_depth= 9, n_estimators= 7, random_state=0)\n",
    "rf.fit(x,y)\n",
    "score= f1_score( y_test, rf.predict(X_test) )\n",
    "acc=  accuracy_score( y_test, rf.predict(X_test) )\n",
    "print(\"Accuracy\", acc)\n",
    "print(\"F1 Score: \", score )"
   ]
  },
  {
   "cell_type": "code",
   "execution_count": 182,
   "metadata": {},
   "outputs": [
    {
     "data": {
      "image/png": "[encoded data removed]",
      "text/plain": [
       "<Figure size 1440x360 with 3 Axes>"
      ]
     },
     "metadata": {
      "needs_background": "light"
     },
     "output_type": "display_data"
    }
   ],
   "source": [
    "plot_confusion_matrix(rf, X_test, y_test) "
   ]
  },
  {
   "cell_type": "code",
   "execution_count": 170,
   "metadata": {},
   "outputs": [
    {
     "data": {
      "image/png": "[encoded data removed]",
      "text/plain": [
       "<Figure size 432x288 with 1 Axes>"
      ]
     },
     "metadata": {
      "needs_background": "light"
     },
     "output_type": "display_data"
    }
   ],
   "source": [
    "depths=[1,2,5,10,15,20,30]\n",
    "learner = RandomForestClassifier(random_state=0)\n",
    "create_validation_curve(x,y, learner, \"max_depth\", depths, title=\"Validation Curve- RF - max depth\")\n",
    "\n"
   ]
  },
  {
   "cell_type": "code",
   "execution_count": 189,
   "metadata": {},
   "outputs": [
    {
     "data": {
      "image/png": "[encoded data removed]",
      "text/plain": [
       "<Figure size 432x288 with 1 Axes>"
      ]
     },
     "metadata": {
      "needs_background": "light"
     },
     "output_type": "display_data"
    }
   ],
   "source": [
    "alphas=[0.0,0.0001,0.001,0.001]\n",
    "learner = RandomForestClassifier(random_state=0)\n",
    "create_validation_curve(x,y, learner, \"ccp_alpha\", alphas, title=\"Validation Curve- RF - post pruning\")"
   ]
  },
  {
   "cell_type": "code",
   "execution_count": 190,
   "metadata": {},
   "outputs": [
    {
     "data": {
      "image/png": "[encoded data removed]",
      "text/plain": [
       "<Figure size 432x288 with 1 Axes>"
      ]
     },
     "metadata": {
      "needs_background": "light"
     },
     "output_type": "display_data"
    }
   ],
   "source": [
    "estimators=[2,3,5,7,10,20,40,]\n",
    "learner = RandomForestClassifier(random_state=0)\n",
    "create_validation_curve(x,y, learner, \"n_estimators\", estimators, title=\"Validation Curve- RF - estimators\")"
   ]
  },
  {
   "cell_type": "markdown",
   "metadata": {},
   "source": [
    "Run GridSearchCV with a reduced search space derived from the validation curves above, where the selected value attempt to achieve a decent bias/ variance balance\n"
   ]
  },
  {
   "cell_type": "code",
   "execution_count": 191,
   "metadata": {},
   "outputs": [
    {
     "name": "stdout",
     "output_type": "stream",
     "text": [
      "{'ccp_alpha': 0.0003, 'max_depth': 9, 'n_estimators': 7}\n"
     ]
    }
   ],
   "source": [
    "parameters = {'n_estimators':[5,6,7], \n",
    "              'ccp_alpha':[0.0003,0.0004, 0.0005], \n",
    "              'max_depth':[5,6,7,8,9]}\n",
    "clf  = GridSearchCV(estimator = RandomForestClassifier(random_state=0),param_grid = parameters,cv=3, scoring=\"f1\")\n",
    "clf .fit(x,y)\n",
    "        \n",
    "print(clf.best_params_)"
   ]
  },
  {
   "cell_type": "code",
   "execution_count": 192,
   "metadata": {},
   "outputs": [
    {
     "data": {
      "image/png": "[encoded data removed]",
      "text/plain": [
       "<Figure size 1440x360 with 3 Axes>"
      ]
     },
     "metadata": {
      "needs_background": "light"
     },
     "output_type": "display_data"
    }
   ],
   "source": [
    "learner = RandomForestClassifier(ccp_alpha= 0.0003, max_depth= 9, n_estimators= 7, random_state=0)\n",
    "plt=plot_learning_curve(learner, \"Learning Curve -Random Forest\", x,y, train_sizes=[ 0.1, 0.2, 0.3, 0.4, 0.5, 0.6, 0.7, 0.8, 0.9, 1])\n",
    "plt.show()"
   ]
  },
  {
   "cell_type": "code",
   "execution_count": 282,
   "metadata": {},
   "outputs": [
    {
     "name": "stdout",
     "output_type": "stream",
     "text": [
      "Accuracy 0.821969696969697\n",
      "F1 Score:  0.7720659553831232\n"
     ]
    }
   ],
   "source": [
    "rf = RandomForestClassifier(ccp_alpha= 0.0003, max_depth= 9, n_estimators= 7, random_state=0)\n",
    "rf.fit(x,y)\n",
    "score= f1_score( y_test, rf.predict(X_test) )\n",
    "acc=  accuracy_score( y_test, rf.predict(X_test) )\n",
    "print(\"Accuracy\", acc)\n",
    "print(\"F1 Score: \", score )"
   ]
  },
  {
   "cell_type": "code",
   "execution_count": 283,
   "metadata": {},
   "outputs": [
    {
     "data": {
      "text/plain": [
       "<sklearn.metrics._plot.confusion_matrix.ConfusionMatrixDisplay at 0x2505a9a5b48>"
      ]
     },
     "execution_count": 283,
     "metadata": {},
     "output_type": "execute_result"
    },
    {
     "data": {
      "image/png": "[encoded data removed]",
      "text/plain": [
       "<Figure size 432x288 with 2 Axes>"
      ]
     },
     "metadata": {
      "needs_background": "light"
     },
     "output_type": "display_data"
    }
   ],
   "source": [
    "plot_confusion_matrix(rf, X_test, y_test) "
   ]
  },
  {
   "cell_type": "code",
   "execution_count": null,
   "metadata": {},
   "outputs": [],
   "source": []
  }
 ],
 "metadata": {
  "kernelspec": {
   "display_name": "Python 3",
   "language": "python",
   "name": "python3"
  },
  "language_info": {
   "codemirror_mode": {
    "name": "ipython",
    "version": 3
   },
   "file_extension": ".py",
   "mimetype": "text/x-python",
   "name": "python",
   "nbconvert_exporter": "python",
   "pygments_lexer": "ipython3",
   "version": "3.7.7"
  }
 },
 "nbformat": 4,
 "nbformat_minor": 1
}
